{
 "cells": [
  {
   "cell_type": "markdown",
   "metadata": {},
   "source": [
    "## Introduction"
   ]
  },
  {
   "cell_type": "markdown",
   "metadata": {},
   "source": [
    "In this notebook, we define a problem and prepare the data for creating the model. By looking at column tip_amount we understand that it stores information about the amount of the tip given for each ride. We are interested in to find out what factors have most influence the amount of the tip. We want to build a classifier that uses all information to predict whether a passenger give tip to driver. This is a binary classifier. With such a classifier we want to provide an alert for driver to predict no-tip rides.\n",
    "\n",
    "In part 2 we predict the tip amount using regression models.\n"
   ]
  },
  {
   "cell_type": "markdown",
   "metadata": {},
   "source": [
    "### Import necessary libraries\n"
   ]
  },
  {
   "cell_type": "code",
   "execution_count": 1,
   "metadata": {},
   "outputs": [],
   "source": [
    "import pandas as pd\n",
    "import numpy as np\n",
    "\n",
    "import matplotlib.pyplot as plt\n",
    "import seaborn as sns\n",
    "from sklearn.preprocessing import MinMaxScaler\n",
    "from sklearn.model_selection import train_test_split\n",
    "from sklearn.linear_model import LinearRegression\n",
    "from sklearn.ensemble import RandomForestRegressor\n",
    "from sklearn.ensemble import RandomForestClassifier\n",
    "from sklearn.metrics import mean_absolute_error, mean_squared_error\n",
    "\n",
    "from sklearn.metrics import confusion_matrix, accuracy_score, recall_score, precision_score, roc_auc_score\n",
    "from sklearn.metrics import roc_curve\n",
    "from sklearn.metrics import auc\n",
    "from sklearn.linear_model import LogisticRegression\n",
    "from xgboost import XGBClassifier\n",
    "\n",
    "from datetime import datetime\n"
   ]
  },
  {
   "cell_type": "markdown",
   "metadata": {},
   "source": [
    "load the data from notebook 'Part 1-EDA'"
   ]
  },
  {
   "cell_type": "code",
   "execution_count": 2,
   "metadata": {},
   "outputs": [
    {
     "name": "stderr",
     "output_type": "stream",
     "text": [
      "C:\\Users\\Nastaran\\Anaconda3\\lib\\site-packages\\numpy\\lib\\arraysetops.py:569: FutureWarning: elementwise comparison failed; returning scalar instead, but in the future will perform elementwise comparison\n",
      "  mask |= (ar1 == a)\n"
     ]
    }
   ],
   "source": [
    "df = pd.read_csv('data.csv', index_col='Unnamed: 0')"
   ]
  },
  {
   "cell_type": "code",
   "execution_count": 3,
   "metadata": {},
   "outputs": [
    {
     "data": {
      "text/html": [
       "<div>\n",
       "<style scoped>\n",
       "    .dataframe tbody tr th:only-of-type {\n",
       "        vertical-align: middle;\n",
       "    }\n",
       "\n",
       "    .dataframe tbody tr th {\n",
       "        vertical-align: top;\n",
       "    }\n",
       "\n",
       "    .dataframe thead th {\n",
       "        text-align: right;\n",
       "    }\n",
       "</style>\n",
       "<table border=\"1\" class=\"dataframe\">\n",
       "  <thead>\n",
       "    <tr style=\"text-align: right;\">\n",
       "      <th></th>\n",
       "      <th>medallion</th>\n",
       "      <th>hack_license</th>\n",
       "      <th>vendor_id</th>\n",
       "      <th>rate_code</th>\n",
       "      <th>pickup_datetime</th>\n",
       "      <th>dropoff_datetime</th>\n",
       "      <th>passenger_count</th>\n",
       "      <th>trip_time_in_secs</th>\n",
       "      <th>trip_distance</th>\n",
       "      <th>pickup_longitude</th>\n",
       "      <th>...</th>\n",
       "      <th>tip_amount</th>\n",
       "      <th>tolls_amount</th>\n",
       "      <th>duration</th>\n",
       "      <th>pickup_hour</th>\n",
       "      <th>pickup_day</th>\n",
       "      <th>dropoff_hour</th>\n",
       "      <th>dropoff_day</th>\n",
       "      <th>LaGu_airport</th>\n",
       "      <th>haversine</th>\n",
       "      <th>speed</th>\n",
       "    </tr>\n",
       "  </thead>\n",
       "  <tbody>\n",
       "    <tr>\n",
       "      <td>0</td>\n",
       "      <td>91F6EB84975BBC867E32CB113C7C2CD5</td>\n",
       "      <td>AD8751110E6292079EB10EB9481FE1A6</td>\n",
       "      <td>CMT</td>\n",
       "      <td>1</td>\n",
       "      <td>2013-04-04 18:47:45</td>\n",
       "      <td>2013-04-04 19:00:25</td>\n",
       "      <td>1</td>\n",
       "      <td>759</td>\n",
       "      <td>2.5</td>\n",
       "      <td>-73.957855</td>\n",
       "      <td>...</td>\n",
       "      <td>2.50</td>\n",
       "      <td>0.0</td>\n",
       "      <td>760</td>\n",
       "      <td>18</td>\n",
       "      <td>3</td>\n",
       "      <td>19</td>\n",
       "      <td>3</td>\n",
       "      <td>False</td>\n",
       "      <td>2.739544</td>\n",
       "      <td>12.976786</td>\n",
       "    </tr>\n",
       "    <tr>\n",
       "      <td>2</td>\n",
       "      <td>C1B9DA774DC2BBC6DE27CE994E7F44A0</td>\n",
       "      <td>E1B595FD55E4C82C1E213EB17438107A</td>\n",
       "      <td>CMT</td>\n",
       "      <td>1</td>\n",
       "      <td>2013-04-04 17:59:50</td>\n",
       "      <td>2013-04-04 18:21:48</td>\n",
       "      <td>1</td>\n",
       "      <td>1318</td>\n",
       "      <td>3.6</td>\n",
       "      <td>-73.982880</td>\n",
       "      <td>...</td>\n",
       "      <td>3.60</td>\n",
       "      <td>0.0</td>\n",
       "      <td>1318</td>\n",
       "      <td>17</td>\n",
       "      <td>3</td>\n",
       "      <td>18</td>\n",
       "      <td>3</td>\n",
       "      <td>False</td>\n",
       "      <td>4.928182</td>\n",
       "      <td>13.460892</td>\n",
       "    </tr>\n",
       "    <tr>\n",
       "      <td>3</td>\n",
       "      <td>9BA84250355AB3FC031C9252D395BF8A</td>\n",
       "      <td>16BB0D96A0DCC853AEC7F55C8D6C71E0</td>\n",
       "      <td>CMT</td>\n",
       "      <td>1</td>\n",
       "      <td>2013-04-04 18:12:01</td>\n",
       "      <td>2013-04-04 18:25:24</td>\n",
       "      <td>1</td>\n",
       "      <td>799</td>\n",
       "      <td>1.9</td>\n",
       "      <td>-73.978119</td>\n",
       "      <td>...</td>\n",
       "      <td>3.45</td>\n",
       "      <td>0.0</td>\n",
       "      <td>803</td>\n",
       "      <td>18</td>\n",
       "      <td>3</td>\n",
       "      <td>18</td>\n",
       "      <td>3</td>\n",
       "      <td>False</td>\n",
       "      <td>2.391527</td>\n",
       "      <td>10.721665</td>\n",
       "    </tr>\n",
       "    <tr>\n",
       "      <td>4</td>\n",
       "      <td>205A696DF62AD03C88DA8C5EC5248639</td>\n",
       "      <td>579C41EA5EC846F8B641A42F9EE3E855</td>\n",
       "      <td>CMT</td>\n",
       "      <td>1</td>\n",
       "      <td>2013-04-04 20:12:57</td>\n",
       "      <td>2013-04-04 20:29:55</td>\n",
       "      <td>1</td>\n",
       "      <td>1017</td>\n",
       "      <td>3.6</td>\n",
       "      <td>-74.006371</td>\n",
       "      <td>...</td>\n",
       "      <td>3.20</td>\n",
       "      <td>0.0</td>\n",
       "      <td>1018</td>\n",
       "      <td>20</td>\n",
       "      <td>3</td>\n",
       "      <td>20</td>\n",
       "      <td>3</td>\n",
       "      <td>False</td>\n",
       "      <td>4.178135</td>\n",
       "      <td>14.775329</td>\n",
       "    </tr>\n",
       "    <tr>\n",
       "      <td>5</td>\n",
       "      <td>EE75E5927D00739AC342810C336A825E</td>\n",
       "      <td>1B4E92431F9DA4D49874EC76E769E874</td>\n",
       "      <td>CMT</td>\n",
       "      <td>1</td>\n",
       "      <td>2013-04-05 02:48:11</td>\n",
       "      <td>2013-04-05 02:51:21</td>\n",
       "      <td>2</td>\n",
       "      <td>189</td>\n",
       "      <td>0.7</td>\n",
       "      <td>-73.985191</td>\n",
       "      <td>...</td>\n",
       "      <td>1.10</td>\n",
       "      <td>0.0</td>\n",
       "      <td>190</td>\n",
       "      <td>2</td>\n",
       "      <td>4</td>\n",
       "      <td>2</td>\n",
       "      <td>4</td>\n",
       "      <td>False</td>\n",
       "      <td>0.902749</td>\n",
       "      <td>17.104720</td>\n",
       "    </tr>\n",
       "  </tbody>\n",
       "</table>\n",
       "<p>5 rows × 27 columns</p>\n",
       "</div>"
      ],
      "text/plain": [
       "                          medallion                      hack_license  \\\n",
       "0  91F6EB84975BBC867E32CB113C7C2CD5  AD8751110E6292079EB10EB9481FE1A6   \n",
       "2  C1B9DA774DC2BBC6DE27CE994E7F44A0  E1B595FD55E4C82C1E213EB17438107A   \n",
       "3  9BA84250355AB3FC031C9252D395BF8A  16BB0D96A0DCC853AEC7F55C8D6C71E0   \n",
       "4  205A696DF62AD03C88DA8C5EC5248639  579C41EA5EC846F8B641A42F9EE3E855   \n",
       "5  EE75E5927D00739AC342810C336A825E  1B4E92431F9DA4D49874EC76E769E874   \n",
       "\n",
       "  vendor_id  rate_code      pickup_datetime     dropoff_datetime  \\\n",
       "0       CMT          1  2013-04-04 18:47:45  2013-04-04 19:00:25   \n",
       "2       CMT          1  2013-04-04 17:59:50  2013-04-04 18:21:48   \n",
       "3       CMT          1  2013-04-04 18:12:01  2013-04-04 18:25:24   \n",
       "4       CMT          1  2013-04-04 20:12:57  2013-04-04 20:29:55   \n",
       "5       CMT          1  2013-04-05 02:48:11  2013-04-05 02:51:21   \n",
       "\n",
       "   passenger_count  trip_time_in_secs  trip_distance  pickup_longitude  ...  \\\n",
       "0                1                759            2.5        -73.957855  ...   \n",
       "2                1               1318            3.6        -73.982880  ...   \n",
       "3                1                799            1.9        -73.978119  ...   \n",
       "4                1               1017            3.6        -74.006371  ...   \n",
       "5                2                189            0.7        -73.985191  ...   \n",
       "\n",
       "   tip_amount  tolls_amount  duration pickup_hour  pickup_day  dropoff_hour  \\\n",
       "0        2.50           0.0       760          18           3            19   \n",
       "2        3.60           0.0      1318          17           3            18   \n",
       "3        3.45           0.0       803          18           3            18   \n",
       "4        3.20           0.0      1018          20           3            20   \n",
       "5        1.10           0.0       190           2           4             2   \n",
       "\n",
       "   dropoff_day  LaGu_airport  haversine      speed  \n",
       "0            3         False   2.739544  12.976786  \n",
       "2            3         False   4.928182  13.460892  \n",
       "3            3         False   2.391527  10.721665  \n",
       "4            3         False   4.178135  14.775329  \n",
       "5            4         False   0.902749  17.104720  \n",
       "\n",
       "[5 rows x 27 columns]"
      ]
     },
     "execution_count": 3,
     "metadata": {},
     "output_type": "execute_result"
    }
   ],
   "source": [
    "df.head()"
   ]
  },
  {
   "cell_type": "code",
   "execution_count": 4,
   "metadata": {},
   "outputs": [
    {
     "name": "stdout",
     "output_type": "stream",
     "text": [
      "Total data size is (14799601, 27)\n"
     ]
    }
   ],
   "source": [
    "print('Total data size is {}'.format(df.shape))\n"
   ]
  },
  {
   "cell_type": "code",
   "execution_count": 5,
   "metadata": {},
   "outputs": [
    {
     "data": {
      "text/plain": [
       "medallion            0\n",
       "hack_license         0\n",
       "vendor_id            0\n",
       "rate_code            0\n",
       "pickup_datetime      0\n",
       "dropoff_datetime     0\n",
       "passenger_count      0\n",
       "trip_time_in_secs    0\n",
       "trip_distance        0\n",
       "pickup_longitude     0\n",
       "pickup_latitude      0\n",
       "dropoff_longitude    0\n",
       "dropoff_latitude     0\n",
       "payment_type         0\n",
       "fare_amount          0\n",
       "surcharge            0\n",
       "mta_tax              0\n",
       "tip_amount           0\n",
       "tolls_amount         0\n",
       "duration             0\n",
       "pickup_hour          0\n",
       "pickup_day           0\n",
       "dropoff_hour         0\n",
       "dropoff_day          0\n",
       "LaGu_airport         0\n",
       "haversine            0\n",
       "speed                0\n",
       "dtype: int64"
      ]
     },
     "execution_count": 5,
     "metadata": {},
     "output_type": "execute_result"
    }
   ],
   "source": [
    "df.isnull().sum()"
   ]
  },
  {
   "cell_type": "code",
   "execution_count": 6,
   "metadata": {},
   "outputs": [
    {
     "data": {
      "text/plain": [
       "medallion             object\n",
       "hack_license          object\n",
       "vendor_id             object\n",
       "rate_code              int64\n",
       "pickup_datetime       object\n",
       "dropoff_datetime      object\n",
       "passenger_count        int64\n",
       "trip_time_in_secs      int64\n",
       "trip_distance        float64\n",
       "pickup_longitude     float64\n",
       "pickup_latitude      float64\n",
       "dropoff_longitude    float64\n",
       "dropoff_latitude     float64\n",
       "payment_type          object\n",
       "fare_amount          float64\n",
       "surcharge            float64\n",
       "mta_tax              float64\n",
       "tip_amount           float64\n",
       "tolls_amount         float64\n",
       "duration               int64\n",
       "pickup_hour            int64\n",
       "pickup_day             int64\n",
       "dropoff_hour           int64\n",
       "dropoff_day            int64\n",
       "LaGu_airport            bool\n",
       "haversine            float64\n",
       "speed                float64\n",
       "dtype: object"
      ]
     },
     "execution_count": 6,
     "metadata": {},
     "output_type": "execute_result"
    }
   ],
   "source": [
    "df.dtypes"
   ]
  },
  {
   "cell_type": "code",
   "execution_count": 7,
   "metadata": {},
   "outputs": [],
   "source": [
    "# df['rate_code'] = df['rate_code'].astype(str)\n"
   ]
  },
  {
   "cell_type": "markdown",
   "metadata": {},
   "source": [
    "Lets have a look to the target variable, tip_amount"
   ]
  },
  {
   "cell_type": "code",
   "execution_count": 8,
   "metadata": {},
   "outputs": [
    {
     "name": "stderr",
     "output_type": "stream",
     "text": [
      "C:\\Users\\Nastaran\\Anaconda3\\lib\\site-packages\\seaborn\\distributions.py:2619: FutureWarning: `distplot` is a deprecated function and will be removed in a future version. Please adapt your code to use either `displot` (a figure-level function with similar flexibility) or `histplot` (an axes-level function for histograms).\n",
      "  warnings.warn(msg, FutureWarning)\n"
     ]
    },
    {
     "data": {
      "image/png": "[encoded data removed]",
      "text/plain": [
       "<Figure size 720x432 with 1 Axes>"
      ]
     },
     "metadata": {
      "needs_background": "light"
     },
     "output_type": "display_data"
    }
   ],
   "source": [
    "plt.figure(figsize = (10, 6))\n",
    "sns.distplot(df['tip_amount'])\n",
    "plt.title('Distribution of tips')\n",
    "plt.show()"
   ]
  },
  {
   "cell_type": "markdown",
   "metadata": {},
   "source": [
    "From graph above we understand that most of the data belongs to those who do not tip. Let’s explore more."
   ]
  },
  {
   "cell_type": "code",
   "execution_count": 9,
   "metadata": {},
   "outputs": [
    {
     "data": {
      "text/plain": [
       "52.27171327118887"
      ]
     },
     "execution_count": 9,
     "metadata": {},
     "output_type": "execute_result"
    }
   ],
   "source": [
    "(len(df[df['tip_amount']!=0])/len(df))*100"
   ]
  },
  {
   "cell_type": "code",
   "execution_count": 10,
   "metadata": {},
   "outputs": [
    {
     "data": {
      "text/plain": [
       "47.728286728811135"
      ]
     },
     "execution_count": 10,
     "metadata": {},
     "output_type": "execute_result"
    }
   ],
   "source": [
    "(len(df[df['tip_amount']==0])/len(df))*100"
   ]
  },
  {
   "cell_type": "markdown",
   "metadata": {},
   "source": [
    "Around 48% of passengers do not tip! Let's study the payment type and look for any correlation between tip amounts and the type of payments."
   ]
  },
  {
   "cell_type": "code",
   "execution_count": 11,
   "metadata": {},
   "outputs": [
    {
     "data": {
      "text/plain": [
       "0"
      ]
     },
     "execution_count": 11,
     "metadata": {},
     "output_type": "execute_result"
    }
   ],
   "source": [
    "len(df[df['fare_amount']==0])"
   ]
  },
  {
   "cell_type": "code",
   "execution_count": 12,
   "metadata": {},
   "outputs": [
    {
     "data": {
      "text/plain": [
       "CRD    7952654\n",
       "CSH    6799479\n",
       "NOC      31733\n",
       "DIS      11014\n",
       "UNK       4721\n",
       "Name: payment_type, dtype: int64"
      ]
     },
     "execution_count": 12,
     "metadata": {},
     "output_type": "execute_result"
    }
   ],
   "source": [
    "df['payment_type'].value_counts()"
   ]
  },
  {
   "cell_type": "markdown",
   "metadata": {},
   "source": [
    "The majority of payments are done by cash or credit card"
   ]
  },
  {
   "cell_type": "code",
   "execution_count": 13,
   "metadata": {},
   "outputs": [
    {
     "data": {
      "text/plain": [
       "6799159"
      ]
     },
     "execution_count": 13,
     "metadata": {},
     "output_type": "execute_result"
    }
   ],
   "source": [
    "len(df[(df['payment_type']=='CSH')&(df['tip_amount']==0)])"
   ]
  },
  {
   "cell_type": "code",
   "execution_count": 14,
   "metadata": {},
   "outputs": [
    {
     "data": {
      "text/plain": [
       "221925"
      ]
     },
     "execution_count": 14,
     "metadata": {},
     "output_type": "execute_result"
    }
   ],
   "source": [
    "len(df[(df['payment_type']=='CRD')&(df['tip_amount']==0)])"
   ]
  },
  {
   "cell_type": "code",
   "execution_count": 15,
   "metadata": {},
   "outputs": [
    {
     "data": {
      "text/plain": [
       "31692"
      ]
     },
     "execution_count": 15,
     "metadata": {},
     "output_type": "execute_result"
    }
   ],
   "source": [
    "len(df[(df['payment_type']=='NOC')&(df['tip_amount']==0)])"
   ]
  },
  {
   "cell_type": "code",
   "execution_count": 16,
   "metadata": {},
   "outputs": [
    {
     "data": {
      "text/plain": [
       "10680"
      ]
     },
     "execution_count": 16,
     "metadata": {},
     "output_type": "execute_result"
    }
   ],
   "source": [
    "len(df[(df['payment_type']=='DIS')&(df['tip_amount']==0)])"
   ]
  },
  {
   "cell_type": "code",
   "execution_count": 17,
   "metadata": {},
   "outputs": [
    {
     "data": {
      "text/plain": [
       "140"
      ]
     },
     "execution_count": 17,
     "metadata": {},
     "output_type": "execute_result"
    }
   ],
   "source": [
    "len(df[(df['payment_type']=='UNK')&(df['tip_amount']==0)])"
   ]
  },
  {
   "cell_type": "markdown",
   "metadata": {},
   "source": [
    "Total number of passengers who pay by cash are 6799479 and total number of passengers who pay by cash and do not tip are 6799159 (99.99%). In total only 320 passengers who paid by cash gave tip."
   ]
  },
  {
   "cell_type": "markdown",
   "metadata": {},
   "source": [
    "It is the same story for NOC and DIS payment types. The total number of passengers who use NOC as their payment are 31733 and among them there are only 41 records of passenger who gave tip. For DIS type of payment, there are in total 11014 records and only 334 records of tip giving passengers.  \n",
    "\n",
    "At this point, we are not sure if these very large number of no-tip records for CSH, DIS and NOC are related to the non-registered data, or the passengers did not tip!"
   ]
  },
  {
   "cell_type": "markdown",
   "metadata": {},
   "source": [
    "The maximum value for the tip does not look realistic. For getting a realistic amount we look at the maximum amount for the fare and consider 20% of that as a maximum for the tip amount. So, we consider any records bigger than this amount as an outlier."
   ]
  },
  {
   "cell_type": "code",
   "execution_count": 18,
   "metadata": {},
   "outputs": [
    {
     "data": {
      "text/plain": [
       "count    1.479960e+07\n",
       "mean     1.337840e+00\n",
       "std      2.072962e+00\n",
       "min      0.000000e+00\n",
       "25%      0.000000e+00\n",
       "50%      1.000000e+00\n",
       "75%      2.000000e+00\n",
       "max      2.000000e+02\n",
       "Name: tip_amount, dtype: float64"
      ]
     },
     "execution_count": 18,
     "metadata": {},
     "output_type": "execute_result"
    }
   ],
   "source": [
    "df['tip_amount'].describe()"
   ]
  },
  {
   "cell_type": "code",
   "execution_count": 19,
   "metadata": {},
   "outputs": [
    {
     "data": {
      "text/plain": [
       "count    1.479960e+07\n",
       "mean     1.220303e+01\n",
       "std      9.489329e+00\n",
       "min      2.500000e+00\n",
       "25%      6.500000e+00\n",
       "50%      9.500000e+00\n",
       "75%      1.400000e+01\n",
       "max      1.000000e+02\n",
       "Name: fare_amount, dtype: float64"
      ]
     },
     "execution_count": 19,
     "metadata": {},
     "output_type": "execute_result"
    }
   ],
   "source": [
    "df['fare_amount'].describe()"
   ]
  },
  {
   "cell_type": "markdown",
   "metadata": {},
   "source": [
    "We consider the maximum tip to be 20 USD."
   ]
  },
  {
   "cell_type": "code",
   "execution_count": 20,
   "metadata": {},
   "outputs": [],
   "source": [
    "df = df[df['tip_amount']<21]"
   ]
  },
  {
   "cell_type": "markdown",
   "metadata": {},
   "source": [
    "With the outliers removed, the distribution looks much nicer."
   ]
  },
  {
   "cell_type": "code",
   "execution_count": 21,
   "metadata": {},
   "outputs": [
    {
     "name": "stderr",
     "output_type": "stream",
     "text": [
      "C:\\Users\\Nastaran\\Anaconda3\\lib\\site-packages\\seaborn\\distributions.py:2619: FutureWarning: `distplot` is a deprecated function and will be removed in a future version. Please adapt your code to use either `displot` (a figure-level function with similar flexibility) or `histplot` (an axes-level function for histograms).\n",
      "  warnings.warn(msg, FutureWarning)\n"
     ]
    },
    {
     "data": {
      "image/png": "[encoded data removed]",
      "text/plain": [
       "<Figure size 720x432 with 1 Axes>"
      ]
     },
     "metadata": {
      "needs_background": "light"
     },
     "output_type": "display_data"
    }
   ],
   "source": [
    "plt.figure(figsize = (10, 6))\n",
    "sns.distplot(df['tip_amount'])\n",
    "plt.title('Distribution of tips')\n",
    "plt.show()"
   ]
  },
  {
   "cell_type": "markdown",
   "metadata": {},
   "source": [
    "Lets check again for the percentage of tip/no-tip records."
   ]
  },
  {
   "cell_type": "code",
   "execution_count": 22,
   "metadata": {},
   "outputs": [
    {
     "name": "stdout",
     "output_type": "stream",
     "text": [
      "The percentage of passengers who do not tip are 52.26%\n"
     ]
    }
   ],
   "source": [
    "print('The percentage of passengers who do not tip are {:.2f}%'.format((len(df[df['tip_amount']!=0])/len(df))*100))"
   ]
  },
  {
   "cell_type": "code",
   "execution_count": 23,
   "metadata": {},
   "outputs": [
    {
     "name": "stdout",
     "output_type": "stream",
     "text": [
      "The percentage of passengers who tip are 47.74%\n"
     ]
    }
   ],
   "source": [
    "print('The percentage of passengers who tip are {:.2f}%'.format((len(df[df['tip_amount']==0])/len(df))*100))"
   ]
  },
  {
   "cell_type": "markdown",
   "metadata": {},
   "source": [
    "### Including date-time features\n"
   ]
  },
  {
   "cell_type": "markdown",
   "metadata": {},
   "source": [
    "Convert the pickup and dropoff to the datetime"
   ]
  },
  {
   "cell_type": "code",
   "execution_count": 24,
   "metadata": {
    "scrolled": true
   },
   "outputs": [],
   "source": [
    "df['pickup_datetime']  = pd.to_datetime(df['pickup_datetime'])\n",
    "df['dropoff_datetime']  = pd.to_datetime(df['dropoff_datetime'])\n"
   ]
  },
  {
   "cell_type": "markdown",
   "metadata": {},
   "source": [
    "### Correlation"
   ]
  },
  {
   "cell_type": "markdown",
   "metadata": {},
   "source": [
    "We randomly sample 300000 records and study the correlation."
   ]
  },
  {
   "cell_type": "code",
   "execution_count": 25,
   "metadata": {},
   "outputs": [],
   "source": [
    "ds=df.sample(300000)"
   ]
  },
  {
   "cell_type": "code",
   "execution_count": 26,
   "metadata": {},
   "outputs": [],
   "source": [
    "ds = ds.drop(['pickup_datetime','dropoff_datetime', 'dropoff_longitude',\n",
    "              'dropoff_latitude','dropoff_hour',\n",
    "              'dropoff_day', 'trip_time_in_secs',\n",
    "             'trip_distance', 'mta_tax', 'tolls_amount', \n",
    "              'surcharge','rate_code', 'passenger_count','vendor_id','payment_type'], axis =1 )"
   ]
  },
  {
   "cell_type": "code",
   "execution_count": 27,
   "metadata": {},
   "outputs": [],
   "source": [
    "correlation = ds.corr()\n"
   ]
  },
  {
   "cell_type": "code",
   "execution_count": 28,
   "metadata": {},
   "outputs": [
    {
     "data": {
      "image/png": "[encoded data removed]",
      "text/plain": [
       "<Figure size 1296x1080 with 2 Axes>"
      ]
     },
     "metadata": {
      "needs_background": "light"
     },
     "output_type": "display_data"
    }
   ],
   "source": [
    "plt.figure(figsize=(10,8))\n",
    "sns.heatmap(correlation,annot=True,cmap='RdYlGn',linewidths=0.2,annot_kws={'size':10})\n",
    "fig=plt.gcf()\n",
    "fig.set_size_inches(18,15)\n",
    "plt.xticks(fontsize=14)\n",
    "plt.yticks(fontsize=14)\n",
    "plt.show()"
   ]
  },
  {
   "cell_type": "markdown",
   "metadata": {},
   "source": [
    "### Building Models"
   ]
  },
  {
   "cell_type": "markdown",
   "metadata": {},
   "source": [
    "First we build a model based on only one features"
   ]
  },
  {
   "cell_type": "code",
   "execution_count": 29,
   "metadata": {},
   "outputs": [
    {
     "data": {
      "text/html": [
       "<div>\n",
       "<style scoped>\n",
       "    .dataframe tbody tr th:only-of-type {\n",
       "        vertical-align: middle;\n",
       "    }\n",
       "\n",
       "    .dataframe tbody tr th {\n",
       "        vertical-align: top;\n",
       "    }\n",
       "\n",
       "    .dataframe thead th {\n",
       "        text-align: right;\n",
       "    }\n",
       "</style>\n",
       "<table border=\"1\" class=\"dataframe\">\n",
       "  <thead>\n",
       "    <tr style=\"text-align: right;\">\n",
       "      <th></th>\n",
       "      <th>medallion</th>\n",
       "      <th>hack_license</th>\n",
       "      <th>pickup_longitude</th>\n",
       "      <th>pickup_latitude</th>\n",
       "      <th>fare_amount</th>\n",
       "      <th>tip_amount</th>\n",
       "      <th>duration</th>\n",
       "      <th>pickup_hour</th>\n",
       "      <th>pickup_day</th>\n",
       "      <th>LaGu_airport</th>\n",
       "      <th>haversine</th>\n",
       "      <th>speed</th>\n",
       "    </tr>\n",
       "  </thead>\n",
       "  <tbody>\n",
       "    <tr>\n",
       "      <td>11341142</td>\n",
       "      <td>1F853ACD16D9788363C0813359D4261E</td>\n",
       "      <td>897829865BA5DBFAF3BED32507DA0F50</td>\n",
       "      <td>-73.996094</td>\n",
       "      <td>40.763893</td>\n",
       "      <td>10.5</td>\n",
       "      <td>0.0</td>\n",
       "      <td>709</td>\n",
       "      <td>9</td>\n",
       "      <td>2</td>\n",
       "      <td>False</td>\n",
       "      <td>2.603502</td>\n",
       "      <td>13.219476</td>\n",
       "    </tr>\n",
       "    <tr>\n",
       "      <td>13261234</td>\n",
       "      <td>04BC6422B122AEA5BF32379379F709AD</td>\n",
       "      <td>4199EB24AFD8D3F03CCCADB7BBBC7959</td>\n",
       "      <td>-73.922150</td>\n",
       "      <td>40.767185</td>\n",
       "      <td>5.0</td>\n",
       "      <td>0.0</td>\n",
       "      <td>180</td>\n",
       "      <td>4</td>\n",
       "      <td>2</td>\n",
       "      <td>False</td>\n",
       "      <td>1.058881</td>\n",
       "      <td>21.177619</td>\n",
       "    </tr>\n",
       "    <tr>\n",
       "      <td>5469745</td>\n",
       "      <td>BBAA52836EC682D5B5144247A68C92C9</td>\n",
       "      <td>75E5E58F8E074FBBD537751C2A6FF932</td>\n",
       "      <td>-73.993286</td>\n",
       "      <td>40.762794</td>\n",
       "      <td>10.0</td>\n",
       "      <td>1.0</td>\n",
       "      <td>614</td>\n",
       "      <td>21</td>\n",
       "      <td>1</td>\n",
       "      <td>False</td>\n",
       "      <td>2.354848</td>\n",
       "      <td>13.806927</td>\n",
       "    </tr>\n",
       "    <tr>\n",
       "      <td>2600464</td>\n",
       "      <td>B676BFC7597ECBD7963D0D2580B0030D</td>\n",
       "      <td>8EB374C18E588BD78AF3330F9C3E054B</td>\n",
       "      <td>-73.976334</td>\n",
       "      <td>40.755836</td>\n",
       "      <td>15.5</td>\n",
       "      <td>1.0</td>\n",
       "      <td>1200</td>\n",
       "      <td>19</td>\n",
       "      <td>1</td>\n",
       "      <td>False</td>\n",
       "      <td>4.991890</td>\n",
       "      <td>14.975671</td>\n",
       "    </tr>\n",
       "    <tr>\n",
       "      <td>11933557</td>\n",
       "      <td>86485F0B1CBDDD6FB6C993011A28B15D</td>\n",
       "      <td>658E5DCB02244AB457ED2FF730EF459A</td>\n",
       "      <td>-73.975563</td>\n",
       "      <td>40.764668</td>\n",
       "      <td>13.0</td>\n",
       "      <td>0.0</td>\n",
       "      <td>940</td>\n",
       "      <td>10</td>\n",
       "      <td>3</td>\n",
       "      <td>False</td>\n",
       "      <td>4.086951</td>\n",
       "      <td>15.652153</td>\n",
       "    </tr>\n",
       "  </tbody>\n",
       "</table>\n",
       "</div>"
      ],
      "text/plain": [
       "                                 medallion                      hack_license  \\\n",
       "11341142  1F853ACD16D9788363C0813359D4261E  897829865BA5DBFAF3BED32507DA0F50   \n",
       "13261234  04BC6422B122AEA5BF32379379F709AD  4199EB24AFD8D3F03CCCADB7BBBC7959   \n",
       "5469745   BBAA52836EC682D5B5144247A68C92C9  75E5E58F8E074FBBD537751C2A6FF932   \n",
       "2600464   B676BFC7597ECBD7963D0D2580B0030D  8EB374C18E588BD78AF3330F9C3E054B   \n",
       "11933557  86485F0B1CBDDD6FB6C993011A28B15D  658E5DCB02244AB457ED2FF730EF459A   \n",
       "\n",
       "          pickup_longitude  pickup_latitude  fare_amount  tip_amount  \\\n",
       "11341142        -73.996094        40.763893         10.5         0.0   \n",
       "13261234        -73.922150        40.767185          5.0         0.0   \n",
       "5469745         -73.993286        40.762794         10.0         1.0   \n",
       "2600464         -73.976334        40.755836         15.5         1.0   \n",
       "11933557        -73.975563        40.764668         13.0         0.0   \n",
       "\n",
       "          duration  pickup_hour  pickup_day  LaGu_airport  haversine  \\\n",
       "11341142       709            9           2         False   2.603502   \n",
       "13261234       180            4           2         False   1.058881   \n",
       "5469745        614           21           1         False   2.354848   \n",
       "2600464       1200           19           1         False   4.991890   \n",
       "11933557       940           10           3         False   4.086951   \n",
       "\n",
       "              speed  \n",
       "11341142  13.219476  \n",
       "13261234  21.177619  \n",
       "5469745   13.806927  \n",
       "2600464   14.975671  \n",
       "11933557  15.652153  "
      ]
     },
     "execution_count": 29,
     "metadata": {},
     "output_type": "execute_result"
    }
   ],
   "source": [
    "ds.head()"
   ]
  },
  {
   "cell_type": "code",
   "execution_count": 30,
   "metadata": {},
   "outputs": [],
   "source": [
    "ds.loc[ds.tip_amount != 0, 'tip_amount'] = 1\n",
    "ds.loc[ds.tip_amount == 0, 'tip_amount'] = 0"
   ]
  },
  {
   "cell_type": "code",
   "execution_count": 31,
   "metadata": {},
   "outputs": [
    {
     "data": {
      "text/plain": [
       "1.0    156725\n",
       "0.0    143275\n",
       "Name: tip_amount, dtype: int64"
      ]
     },
     "execution_count": 31,
     "metadata": {},
     "output_type": "execute_result"
    }
   ],
   "source": [
    "ds['tip_amount'].value_counts()"
   ]
  },
  {
   "cell_type": "code",
   "execution_count": 32,
   "metadata": {},
   "outputs": [],
   "source": [
    "y = ds['tip_amount']\n",
    "x = ds[['duration']]"
   ]
  },
  {
   "cell_type": "code",
   "execution_count": 33,
   "metadata": {},
   "outputs": [],
   "source": [
    "x_train,x_test, y_train,y_test = train_test_split(x,y, random_state = 20, test_size=0.2)"
   ]
  },
  {
   "cell_type": "code",
   "execution_count": 34,
   "metadata": {},
   "outputs": [
    {
     "name": "stdout",
     "output_type": "stream",
     "text": [
      "Training data shape:  (240000, 1)\n",
      "Testing data shape:  (60000, 1)\n"
     ]
    }
   ],
   "source": [
    "# Scale each feature to 0-1\n",
    "scaler = MinMaxScaler(feature_range = (0, 1))\n",
    "\n",
    "# Fit on the training data and transform both training and testing data\n",
    "scaler.fit(x_train)\n",
    "x_train = scaler.transform(x_train)\n",
    "x_test = scaler.transform(x_test)\n",
    "\n",
    "print('Training data shape: ', x_train.shape)\n",
    "print('Testing data shape: ', x_test.shape)"
   ]
  },
  {
   "cell_type": "code",
   "execution_count": 35,
   "metadata": {},
   "outputs": [
    {
     "data": {
      "text/plain": [
       "LogisticRegression(C=1.0, class_weight=None, dual=False, fit_intercept=True,\n",
       "                   intercept_scaling=1, l1_ratio=None, max_iter=100,\n",
       "                   multi_class='auto', n_jobs=None, penalty='l1',\n",
       "                   random_state=None, solver='liblinear', tol=0.0001, verbose=0,\n",
       "                   warm_start=False)"
      ]
     },
     "execution_count": 35,
     "metadata": {},
     "output_type": "execute_result"
    }
   ],
   "source": [
    "lr = LogisticRegression(penalty='l1', solver='liblinear')\n",
    "lr.fit(x_train, y_train)"
   ]
  },
  {
   "cell_type": "code",
   "execution_count": 36,
   "metadata": {},
   "outputs": [],
   "source": [
    "lr_y_pred = lr.predict(x_test)\n"
   ]
  },
  {
   "cell_type": "code",
   "execution_count": 37,
   "metadata": {},
   "outputs": [],
   "source": [
    "lr_y_prob = lr.predict_proba(x_test)[:,1]\n"
   ]
  },
  {
   "cell_type": "code",
   "execution_count": 38,
   "metadata": {},
   "outputs": [
    {
     "data": {
      "image/png": "[encoded data removed]",
      "text/plain": [
       "<Figure size 576x576 with 1 Axes>"
      ]
     },
     "metadata": {
      "needs_background": "light"
     },
     "output_type": "display_data"
    }
   ],
   "source": [
    "# For class 1, find the area under the curve\n",
    "\n",
    "# Find fpr, tpr\n",
    "\n",
    "fpr, tpr, _ = roc_curve(y_test, lr_y_prob)\n",
    "\n",
    "# Find auc\n",
    "\n",
    "roc_auc = auc(fpr, tpr)\n",
    "\n",
    "#Plot of a ROC curve for class 1 (has_cancer)\n",
    "plt.figure(figsize=[8,8])\n",
    "\n",
    "#Plot fpr, tpr\n",
    "plt.plot(fpr, tpr, color='darkorange', lw = 2, label = 'ROC curve (area = %0.4f)' % roc_auc)\n",
    "plt.plot([0, 1], [0, 1], 'k--', linewidth=4)\n",
    "plt.xlim([-0.05, 1.0])\n",
    "plt.ylim([-0.05, 1.05])\n",
    "plt.xlabel('False Positive Rate', fontsize=18)\n",
    "plt.ylabel('True Positive Rate', fontsize=18)\n",
    "plt.title('Receiver operating characteristic', fontsize=18)\n",
    "plt.legend(loc=\"lower right\")\n",
    "plt.show()"
   ]
  },
  {
   "cell_type": "code",
   "execution_count": 39,
   "metadata": {},
   "outputs": [
    {
     "data": {
      "text/plain": [
       "array([[10931, 17705],\n",
       "       [ 9077, 22287]], dtype=int64)"
      ]
     },
     "execution_count": 39,
     "metadata": {},
     "output_type": "execute_result"
    }
   ],
   "source": [
    "confusion_matrix(y_test, lr_y_pred)"
   ]
  },
  {
   "cell_type": "code",
   "execution_count": 40,
   "metadata": {},
   "outputs": [],
   "source": [
    "def summary_report(actual,prediction):\n",
    "    \n",
    "    accuracy_ = accuracy_score(actual, prediction)\n",
    "    precision_ = precision_score(actual, prediction)\n",
    "    recall_ = recall_score(actual, prediction)\n",
    "    \n",
    "    print('Accuracy : %.4f [TP / N] Proportion of predicted labels that match the true labels. Best: 1, Worst: 0' % accuracy_)\n",
    "    print('Precision: %.4f [TP / (TP + FP)] Not to label a negative sample as positive.        Best: 1, Worst: 0' % precision_)\n",
    "    print('Recall   : %.4f [TP / (TP + FN)] Find all the positive samples.                     Best: 1, Worst: 0' % recall_)\n",
    "    print('-' * 107)\n",
    "    print('TP: True Positives, FP: False Positives, TN: True Negatives, FN: False Negatives, N: Number of samples')"
   ]
  },
  {
   "cell_type": "code",
   "execution_count": 41,
   "metadata": {},
   "outputs": [
    {
     "name": "stdout",
     "output_type": "stream",
     "text": [
      "Accuracy : 0.5536 [TP / N] Proportion of predicted labels that match the true labels. Best: 1, Worst: 0\n",
      "Precision: 0.5573 [TP / (TP + FP)] Not to label a negative sample as positive.        Best: 1, Worst: 0\n",
      "Recall   : 0.7106 [TP / (TP + FN)] Find all the positive samples.                     Best: 1, Worst: 0\n",
      "-----------------------------------------------------------------------------------------------------------\n",
      "TP: True Positives, FP: False Positives, TN: True Negatives, FN: False Negatives, N: Number of samples\n"
     ]
    }
   ],
   "source": [
    "summary_report(y_test, lr_y_pred)"
   ]
  },
  {
   "cell_type": "markdown",
   "metadata": {},
   "source": [
    "#### use all features"
   ]
  },
  {
   "cell_type": "code",
   "execution_count": 42,
   "metadata": {},
   "outputs": [
    {
     "data": {
      "text/html": [
       "<div>\n",
       "<style scoped>\n",
       "    .dataframe tbody tr th:only-of-type {\n",
       "        vertical-align: middle;\n",
       "    }\n",
       "\n",
       "    .dataframe tbody tr th {\n",
       "        vertical-align: top;\n",
       "    }\n",
       "\n",
       "    .dataframe thead th {\n",
       "        text-align: right;\n",
       "    }\n",
       "</style>\n",
       "<table border=\"1\" class=\"dataframe\">\n",
       "  <thead>\n",
       "    <tr style=\"text-align: right;\">\n",
       "      <th></th>\n",
       "      <th>medallion</th>\n",
       "      <th>hack_license</th>\n",
       "      <th>pickup_longitude</th>\n",
       "      <th>pickup_latitude</th>\n",
       "      <th>fare_amount</th>\n",
       "      <th>tip_amount</th>\n",
       "      <th>duration</th>\n",
       "      <th>pickup_hour</th>\n",
       "      <th>pickup_day</th>\n",
       "      <th>LaGu_airport</th>\n",
       "      <th>haversine</th>\n",
       "      <th>speed</th>\n",
       "    </tr>\n",
       "  </thead>\n",
       "  <tbody>\n",
       "    <tr>\n",
       "      <td>11341142</td>\n",
       "      <td>1F853ACD16D9788363C0813359D4261E</td>\n",
       "      <td>897829865BA5DBFAF3BED32507DA0F50</td>\n",
       "      <td>-73.996094</td>\n",
       "      <td>40.763893</td>\n",
       "      <td>10.5</td>\n",
       "      <td>0.0</td>\n",
       "      <td>709</td>\n",
       "      <td>9</td>\n",
       "      <td>2</td>\n",
       "      <td>False</td>\n",
       "      <td>2.603502</td>\n",
       "      <td>13.219476</td>\n",
       "    </tr>\n",
       "    <tr>\n",
       "      <td>13261234</td>\n",
       "      <td>04BC6422B122AEA5BF32379379F709AD</td>\n",
       "      <td>4199EB24AFD8D3F03CCCADB7BBBC7959</td>\n",
       "      <td>-73.922150</td>\n",
       "      <td>40.767185</td>\n",
       "      <td>5.0</td>\n",
       "      <td>0.0</td>\n",
       "      <td>180</td>\n",
       "      <td>4</td>\n",
       "      <td>2</td>\n",
       "      <td>False</td>\n",
       "      <td>1.058881</td>\n",
       "      <td>21.177619</td>\n",
       "    </tr>\n",
       "    <tr>\n",
       "      <td>5469745</td>\n",
       "      <td>BBAA52836EC682D5B5144247A68C92C9</td>\n",
       "      <td>75E5E58F8E074FBBD537751C2A6FF932</td>\n",
       "      <td>-73.993286</td>\n",
       "      <td>40.762794</td>\n",
       "      <td>10.0</td>\n",
       "      <td>1.0</td>\n",
       "      <td>614</td>\n",
       "      <td>21</td>\n",
       "      <td>1</td>\n",
       "      <td>False</td>\n",
       "      <td>2.354848</td>\n",
       "      <td>13.806927</td>\n",
       "    </tr>\n",
       "    <tr>\n",
       "      <td>2600464</td>\n",
       "      <td>B676BFC7597ECBD7963D0D2580B0030D</td>\n",
       "      <td>8EB374C18E588BD78AF3330F9C3E054B</td>\n",
       "      <td>-73.976334</td>\n",
       "      <td>40.755836</td>\n",
       "      <td>15.5</td>\n",
       "      <td>1.0</td>\n",
       "      <td>1200</td>\n",
       "      <td>19</td>\n",
       "      <td>1</td>\n",
       "      <td>False</td>\n",
       "      <td>4.991890</td>\n",
       "      <td>14.975671</td>\n",
       "    </tr>\n",
       "    <tr>\n",
       "      <td>11933557</td>\n",
       "      <td>86485F0B1CBDDD6FB6C993011A28B15D</td>\n",
       "      <td>658E5DCB02244AB457ED2FF730EF459A</td>\n",
       "      <td>-73.975563</td>\n",
       "      <td>40.764668</td>\n",
       "      <td>13.0</td>\n",
       "      <td>0.0</td>\n",
       "      <td>940</td>\n",
       "      <td>10</td>\n",
       "      <td>3</td>\n",
       "      <td>False</td>\n",
       "      <td>4.086951</td>\n",
       "      <td>15.652153</td>\n",
       "    </tr>\n",
       "  </tbody>\n",
       "</table>\n",
       "</div>"
      ],
      "text/plain": [
       "                                 medallion                      hack_license  \\\n",
       "11341142  1F853ACD16D9788363C0813359D4261E  897829865BA5DBFAF3BED32507DA0F50   \n",
       "13261234  04BC6422B122AEA5BF32379379F709AD  4199EB24AFD8D3F03CCCADB7BBBC7959   \n",
       "5469745   BBAA52836EC682D5B5144247A68C92C9  75E5E58F8E074FBBD537751C2A6FF932   \n",
       "2600464   B676BFC7597ECBD7963D0D2580B0030D  8EB374C18E588BD78AF3330F9C3E054B   \n",
       "11933557  86485F0B1CBDDD6FB6C993011A28B15D  658E5DCB02244AB457ED2FF730EF459A   \n",
       "\n",
       "          pickup_longitude  pickup_latitude  fare_amount  tip_amount  \\\n",
       "11341142        -73.996094        40.763893         10.5         0.0   \n",
       "13261234        -73.922150        40.767185          5.0         0.0   \n",
       "5469745         -73.993286        40.762794         10.0         1.0   \n",
       "2600464         -73.976334        40.755836         15.5         1.0   \n",
       "11933557        -73.975563        40.764668         13.0         0.0   \n",
       "\n",
       "          duration  pickup_hour  pickup_day  LaGu_airport  haversine  \\\n",
       "11341142       709            9           2         False   2.603502   \n",
       "13261234       180            4           2         False   1.058881   \n",
       "5469745        614           21           1         False   2.354848   \n",
       "2600464       1200           19           1         False   4.991890   \n",
       "11933557       940           10           3         False   4.086951   \n",
       "\n",
       "              speed  \n",
       "11341142  13.219476  \n",
       "13261234  21.177619  \n",
       "5469745   13.806927  \n",
       "2600464   14.975671  \n",
       "11933557  15.652153  "
      ]
     },
     "execution_count": 42,
     "metadata": {},
     "output_type": "execute_result"
    }
   ],
   "source": [
    "ds.head()"
   ]
  },
  {
   "cell_type": "markdown",
   "metadata": {},
   "source": [
    "Replace non zero tip values with 1 and the rest with 0."
   ]
  },
  {
   "cell_type": "code",
   "execution_count": 43,
   "metadata": {},
   "outputs": [],
   "source": [
    "ds.loc[df.tip_amount != 0, 'tip_amount'] = 1\n",
    "ds.loc[df.tip_amount == 0, 'tip_amount'] = 0"
   ]
  },
  {
   "cell_type": "code",
   "execution_count": 44,
   "metadata": {},
   "outputs": [
    {
     "data": {
      "text/plain": [
       "1.0    156725\n",
       "0.0    143275\n",
       "Name: tip_amount, dtype: int64"
      ]
     },
     "execution_count": 44,
     "metadata": {},
     "output_type": "execute_result"
    }
   ],
   "source": [
    "ds['tip_amount'].value_counts()"
   ]
  },
  {
   "cell_type": "markdown",
   "metadata": {},
   "source": [
    "Define target and the features"
   ]
  },
  {
   "cell_type": "code",
   "execution_count": 45,
   "metadata": {},
   "outputs": [],
   "source": [
    "y = ds['tip_amount']\n",
    "x = ds.drop(['tip_amount'], axis =1 )"
   ]
  },
  {
   "cell_type": "code",
   "execution_count": 46,
   "metadata": {},
   "outputs": [],
   "source": [
    "x = x.set_index(['medallion', 'hack_license'])\n"
   ]
  },
  {
   "cell_type": "code",
   "execution_count": 47,
   "metadata": {},
   "outputs": [
    {
     "data": {
      "text/html": [
       "<div>\n",
       "<style scoped>\n",
       "    .dataframe tbody tr th:only-of-type {\n",
       "        vertical-align: middle;\n",
       "    }\n",
       "\n",
       "    .dataframe tbody tr th {\n",
       "        vertical-align: top;\n",
       "    }\n",
       "\n",
       "    .dataframe thead th {\n",
       "        text-align: right;\n",
       "    }\n",
       "</style>\n",
       "<table border=\"1\" class=\"dataframe\">\n",
       "  <thead>\n",
       "    <tr style=\"text-align: right;\">\n",
       "      <th></th>\n",
       "      <th></th>\n",
       "      <th>pickup_longitude</th>\n",
       "      <th>pickup_latitude</th>\n",
       "      <th>fare_amount</th>\n",
       "      <th>duration</th>\n",
       "      <th>pickup_hour</th>\n",
       "      <th>pickup_day</th>\n",
       "      <th>LaGu_airport</th>\n",
       "      <th>haversine</th>\n",
       "      <th>speed</th>\n",
       "    </tr>\n",
       "    <tr>\n",
       "      <th>medallion</th>\n",
       "      <th>hack_license</th>\n",
       "      <th></th>\n",
       "      <th></th>\n",
       "      <th></th>\n",
       "      <th></th>\n",
       "      <th></th>\n",
       "      <th></th>\n",
       "      <th></th>\n",
       "      <th></th>\n",
       "      <th></th>\n",
       "    </tr>\n",
       "  </thead>\n",
       "  <tbody>\n",
       "    <tr>\n",
       "      <td>1F853ACD16D9788363C0813359D4261E</td>\n",
       "      <td>897829865BA5DBFAF3BED32507DA0F50</td>\n",
       "      <td>-73.996094</td>\n",
       "      <td>40.763893</td>\n",
       "      <td>10.5</td>\n",
       "      <td>709</td>\n",
       "      <td>9</td>\n",
       "      <td>2</td>\n",
       "      <td>False</td>\n",
       "      <td>2.603502</td>\n",
       "      <td>13.219476</td>\n",
       "    </tr>\n",
       "    <tr>\n",
       "      <td>04BC6422B122AEA5BF32379379F709AD</td>\n",
       "      <td>4199EB24AFD8D3F03CCCADB7BBBC7959</td>\n",
       "      <td>-73.922150</td>\n",
       "      <td>40.767185</td>\n",
       "      <td>5.0</td>\n",
       "      <td>180</td>\n",
       "      <td>4</td>\n",
       "      <td>2</td>\n",
       "      <td>False</td>\n",
       "      <td>1.058881</td>\n",
       "      <td>21.177619</td>\n",
       "    </tr>\n",
       "    <tr>\n",
       "      <td>BBAA52836EC682D5B5144247A68C92C9</td>\n",
       "      <td>75E5E58F8E074FBBD537751C2A6FF932</td>\n",
       "      <td>-73.993286</td>\n",
       "      <td>40.762794</td>\n",
       "      <td>10.0</td>\n",
       "      <td>614</td>\n",
       "      <td>21</td>\n",
       "      <td>1</td>\n",
       "      <td>False</td>\n",
       "      <td>2.354848</td>\n",
       "      <td>13.806927</td>\n",
       "    </tr>\n",
       "    <tr>\n",
       "      <td>B676BFC7597ECBD7963D0D2580B0030D</td>\n",
       "      <td>8EB374C18E588BD78AF3330F9C3E054B</td>\n",
       "      <td>-73.976334</td>\n",
       "      <td>40.755836</td>\n",
       "      <td>15.5</td>\n",
       "      <td>1200</td>\n",
       "      <td>19</td>\n",
       "      <td>1</td>\n",
       "      <td>False</td>\n",
       "      <td>4.991890</td>\n",
       "      <td>14.975671</td>\n",
       "    </tr>\n",
       "    <tr>\n",
       "      <td>86485F0B1CBDDD6FB6C993011A28B15D</td>\n",
       "      <td>658E5DCB02244AB457ED2FF730EF459A</td>\n",
       "      <td>-73.975563</td>\n",
       "      <td>40.764668</td>\n",
       "      <td>13.0</td>\n",
       "      <td>940</td>\n",
       "      <td>10</td>\n",
       "      <td>3</td>\n",
       "      <td>False</td>\n",
       "      <td>4.086951</td>\n",
       "      <td>15.652153</td>\n",
       "    </tr>\n",
       "  </tbody>\n",
       "</table>\n",
       "</div>"
      ],
      "text/plain": [
       "                                                                   pickup_longitude  \\\n",
       "medallion                        hack_license                                         \n",
       "1F853ACD16D9788363C0813359D4261E 897829865BA5DBFAF3BED32507DA0F50        -73.996094   \n",
       "04BC6422B122AEA5BF32379379F709AD 4199EB24AFD8D3F03CCCADB7BBBC7959        -73.922150   \n",
       "BBAA52836EC682D5B5144247A68C92C9 75E5E58F8E074FBBD537751C2A6FF932        -73.993286   \n",
       "B676BFC7597ECBD7963D0D2580B0030D 8EB374C18E588BD78AF3330F9C3E054B        -73.976334   \n",
       "86485F0B1CBDDD6FB6C993011A28B15D 658E5DCB02244AB457ED2FF730EF459A        -73.975563   \n",
       "\n",
       "                                                                   pickup_latitude  \\\n",
       "medallion                        hack_license                                        \n",
       "1F853ACD16D9788363C0813359D4261E 897829865BA5DBFAF3BED32507DA0F50        40.763893   \n",
       "04BC6422B122AEA5BF32379379F709AD 4199EB24AFD8D3F03CCCADB7BBBC7959        40.767185   \n",
       "BBAA52836EC682D5B5144247A68C92C9 75E5E58F8E074FBBD537751C2A6FF932        40.762794   \n",
       "B676BFC7597ECBD7963D0D2580B0030D 8EB374C18E588BD78AF3330F9C3E054B        40.755836   \n",
       "86485F0B1CBDDD6FB6C993011A28B15D 658E5DCB02244AB457ED2FF730EF459A        40.764668   \n",
       "\n",
       "                                                                   fare_amount  \\\n",
       "medallion                        hack_license                                    \n",
       "1F853ACD16D9788363C0813359D4261E 897829865BA5DBFAF3BED32507DA0F50         10.5   \n",
       "04BC6422B122AEA5BF32379379F709AD 4199EB24AFD8D3F03CCCADB7BBBC7959          5.0   \n",
       "BBAA52836EC682D5B5144247A68C92C9 75E5E58F8E074FBBD537751C2A6FF932         10.0   \n",
       "B676BFC7597ECBD7963D0D2580B0030D 8EB374C18E588BD78AF3330F9C3E054B         15.5   \n",
       "86485F0B1CBDDD6FB6C993011A28B15D 658E5DCB02244AB457ED2FF730EF459A         13.0   \n",
       "\n",
       "                                                                   duration  \\\n",
       "medallion                        hack_license                                 \n",
       "1F853ACD16D9788363C0813359D4261E 897829865BA5DBFAF3BED32507DA0F50       709   \n",
       "04BC6422B122AEA5BF32379379F709AD 4199EB24AFD8D3F03CCCADB7BBBC7959       180   \n",
       "BBAA52836EC682D5B5144247A68C92C9 75E5E58F8E074FBBD537751C2A6FF932       614   \n",
       "B676BFC7597ECBD7963D0D2580B0030D 8EB374C18E588BD78AF3330F9C3E054B      1200   \n",
       "86485F0B1CBDDD6FB6C993011A28B15D 658E5DCB02244AB457ED2FF730EF459A       940   \n",
       "\n",
       "                                                                   pickup_hour  \\\n",
       "medallion                        hack_license                                    \n",
       "1F853ACD16D9788363C0813359D4261E 897829865BA5DBFAF3BED32507DA0F50            9   \n",
       "04BC6422B122AEA5BF32379379F709AD 4199EB24AFD8D3F03CCCADB7BBBC7959            4   \n",
       "BBAA52836EC682D5B5144247A68C92C9 75E5E58F8E074FBBD537751C2A6FF932           21   \n",
       "B676BFC7597ECBD7963D0D2580B0030D 8EB374C18E588BD78AF3330F9C3E054B           19   \n",
       "86485F0B1CBDDD6FB6C993011A28B15D 658E5DCB02244AB457ED2FF730EF459A           10   \n",
       "\n",
       "                                                                   pickup_day  \\\n",
       "medallion                        hack_license                                   \n",
       "1F853ACD16D9788363C0813359D4261E 897829865BA5DBFAF3BED32507DA0F50           2   \n",
       "04BC6422B122AEA5BF32379379F709AD 4199EB24AFD8D3F03CCCADB7BBBC7959           2   \n",
       "BBAA52836EC682D5B5144247A68C92C9 75E5E58F8E074FBBD537751C2A6FF932           1   \n",
       "B676BFC7597ECBD7963D0D2580B0030D 8EB374C18E588BD78AF3330F9C3E054B           1   \n",
       "86485F0B1CBDDD6FB6C993011A28B15D 658E5DCB02244AB457ED2FF730EF459A           3   \n",
       "\n",
       "                                                                   LaGu_airport  \\\n",
       "medallion                        hack_license                                     \n",
       "1F853ACD16D9788363C0813359D4261E 897829865BA5DBFAF3BED32507DA0F50         False   \n",
       "04BC6422B122AEA5BF32379379F709AD 4199EB24AFD8D3F03CCCADB7BBBC7959         False   \n",
       "BBAA52836EC682D5B5144247A68C92C9 75E5E58F8E074FBBD537751C2A6FF932         False   \n",
       "B676BFC7597ECBD7963D0D2580B0030D 8EB374C18E588BD78AF3330F9C3E054B         False   \n",
       "86485F0B1CBDDD6FB6C993011A28B15D 658E5DCB02244AB457ED2FF730EF459A         False   \n",
       "\n",
       "                                                                   haversine  \\\n",
       "medallion                        hack_license                                  \n",
       "1F853ACD16D9788363C0813359D4261E 897829865BA5DBFAF3BED32507DA0F50   2.603502   \n",
       "04BC6422B122AEA5BF32379379F709AD 4199EB24AFD8D3F03CCCADB7BBBC7959   1.058881   \n",
       "BBAA52836EC682D5B5144247A68C92C9 75E5E58F8E074FBBD537751C2A6FF932   2.354848   \n",
       "B676BFC7597ECBD7963D0D2580B0030D 8EB374C18E588BD78AF3330F9C3E054B   4.991890   \n",
       "86485F0B1CBDDD6FB6C993011A28B15D 658E5DCB02244AB457ED2FF730EF459A   4.086951   \n",
       "\n",
       "                                                                       speed  \n",
       "medallion                        hack_license                                 \n",
       "1F853ACD16D9788363C0813359D4261E 897829865BA5DBFAF3BED32507DA0F50  13.219476  \n",
       "04BC6422B122AEA5BF32379379F709AD 4199EB24AFD8D3F03CCCADB7BBBC7959  21.177619  \n",
       "BBAA52836EC682D5B5144247A68C92C9 75E5E58F8E074FBBD537751C2A6FF932  13.806927  \n",
       "B676BFC7597ECBD7963D0D2580B0030D 8EB374C18E588BD78AF3330F9C3E054B  14.975671  \n",
       "86485F0B1CBDDD6FB6C993011A28B15D 658E5DCB02244AB457ED2FF730EF459A  15.652153  "
      ]
     },
     "execution_count": 47,
     "metadata": {},
     "output_type": "execute_result"
    }
   ],
   "source": [
    "x.head()"
   ]
  },
  {
   "cell_type": "code",
   "execution_count": 48,
   "metadata": {},
   "outputs": [
    {
     "data": {
      "text/plain": [
       "(300000, 9)"
      ]
     },
     "execution_count": 48,
     "metadata": {},
     "output_type": "execute_result"
    }
   ],
   "source": [
    "x.shape"
   ]
  },
  {
   "cell_type": "code",
   "execution_count": 49,
   "metadata": {},
   "outputs": [
    {
     "data": {
      "text/plain": [
       "['pickup_longitude',\n",
       " 'pickup_latitude',\n",
       " 'fare_amount',\n",
       " 'duration',\n",
       " 'pickup_hour',\n",
       " 'pickup_day',\n",
       " 'LaGu_airport',\n",
       " 'haversine',\n",
       " 'speed']"
      ]
     },
     "execution_count": 49,
     "metadata": {},
     "output_type": "execute_result"
    }
   ],
   "source": [
    "#Features name\n",
    "\n",
    "features_name = list(x.columns)\n",
    "features_name"
   ]
  },
  {
   "cell_type": "code",
   "execution_count": 50,
   "metadata": {},
   "outputs": [],
   "source": [
    "#Splitting the train and test data\n",
    "\n",
    "x_train,x_test, y_train,y_test = train_test_split(x,y, random_state = 20, test_size=0.6)"
   ]
  },
  {
   "cell_type": "code",
   "execution_count": 51,
   "metadata": {
    "scrolled": true
   },
   "outputs": [
    {
     "name": "stdout",
     "output_type": "stream",
     "text": [
      "Training data shape:  (120000, 9)\n",
      "Testing data shape:  (180000, 9)\n"
     ]
    }
   ],
   "source": [
    "# Scale each feature to 0-1\n",
    "scaler = MinMaxScaler(feature_range = (0, 1))\n",
    "\n",
    "# Fit on the training data and transform both training and testing data\n",
    "scaler.fit(x_train)\n",
    "x_train = scaler.transform(x_train)\n",
    "x_test = scaler.transform(x_test)\n",
    "\n",
    "print('Training data shape: ', x_train.shape)\n",
    "print('Testing data shape: ', x_test.shape)"
   ]
  },
  {
   "cell_type": "markdown",
   "metadata": {},
   "source": [
    "#### First Model: Logistic Regression"
   ]
  },
  {
   "cell_type": "markdown",
   "metadata": {},
   "source": [
    "We create a simple logestic model."
   ]
  },
  {
   "cell_type": "code",
   "execution_count": 52,
   "metadata": {},
   "outputs": [
    {
     "data": {
      "text/plain": [
       "LogisticRegression(C=1.0, class_weight=None, dual=False, fit_intercept=True,\n",
       "                   intercept_scaling=1, l1_ratio=None, max_iter=100,\n",
       "                   multi_class='auto', n_jobs=None, penalty='l1',\n",
       "                   random_state=None, solver='liblinear', tol=0.0001, verbose=0,\n",
       "                   warm_start=False)"
      ]
     },
     "execution_count": 52,
     "metadata": {},
     "output_type": "execute_result"
    }
   ],
   "source": [
    "lr = LogisticRegression(penalty='l1', solver='liblinear')\n",
    "lr.fit(x_train, y_train)"
   ]
  },
  {
   "cell_type": "code",
   "execution_count": 53,
   "metadata": {},
   "outputs": [],
   "source": [
    "lr_y_pred = lr.predict(x_test)\n"
   ]
  },
  {
   "cell_type": "code",
   "execution_count": 54,
   "metadata": {},
   "outputs": [],
   "source": [
    "lr_y_prob = lr.predict_proba(x_test)[:,1]\n"
   ]
  },
  {
   "cell_type": "code",
   "execution_count": 55,
   "metadata": {},
   "outputs": [
    {
     "data": {
      "image/png": "[encoded data removed]",
      "text/plain": [
       "<Figure size 576x576 with 1 Axes>"
      ]
     },
     "metadata": {
      "needs_background": "light"
     },
     "output_type": "display_data"
    }
   ],
   "source": [
    "# For class 1, find the area under the curve\n",
    "\n",
    "# Find fpr, tpr\n",
    "\n",
    "fpr, tpr, _ = roc_curve(y_test, lr_y_prob)\n",
    "\n",
    "# Find auc\n",
    "\n",
    "roc_auc = auc(fpr, tpr)\n",
    "\n",
    "#Plot of a ROC curve for class 1 (has_cancer)\n",
    "plt.figure(figsize=[8,8])\n",
    "\n",
    "#Plot fpr, tpr\n",
    "plt.plot(fpr, tpr, color='darkorange', lw = 2, label = 'ROC curve (area = %0.4f)' % roc_auc)\n",
    "plt.plot([0, 1], [0, 1], 'k--', linewidth=4)\n",
    "plt.xlim([-0.05, 1.0])\n",
    "plt.ylim([-0.05, 1.05])\n",
    "plt.xlabel('False Positive Rate', fontsize=18)\n",
    "plt.ylabel('True Positive Rate', fontsize=18)\n",
    "plt.title('Receiver operating characteristic', fontsize=18)\n",
    "plt.legend(loc=\"lower right\")\n",
    "plt.show()"
   ]
  },
  {
   "cell_type": "code",
   "execution_count": 56,
   "metadata": {},
   "outputs": [
    {
     "data": {
      "text/plain": [
       "array([[33917, 52040],\n",
       "       [27521, 66522]], dtype=int64)"
      ]
     },
     "execution_count": 56,
     "metadata": {},
     "output_type": "execute_result"
    }
   ],
   "source": [
    "confusion_matrix(y_test, lr_y_pred)"
   ]
  },
  {
   "cell_type": "code",
   "execution_count": 57,
   "metadata": {},
   "outputs": [],
   "source": [
    "def summary_report(actual,prediction):\n",
    "    \n",
    "    accuracy_ = accuracy_score(actual, prediction)\n",
    "    precision_ = precision_score(actual, prediction)\n",
    "    recall_ = recall_score(actual, prediction)\n",
    "    \n",
    "    print('Accuracy : %.4f [TP / N] Proportion of predicted labels that match the true labels. Best: 1, Worst: 0' % accuracy_)\n",
    "    print('Precision: %.4f [TP / (TP + FP)] Not to label a negative sample as positive.        Best: 1, Worst: 0' % precision_)\n",
    "    print('Recall   : %.4f [TP / (TP + FN)] Find all the positive samples.                     Best: 1, Worst: 0' % recall_)\n",
    "    print('-' * 107)\n",
    "    print('TP: True Positives, FP: False Positives, TN: True Negatives, FN: False Negatives, N: Number of samples')"
   ]
  },
  {
   "cell_type": "code",
   "execution_count": 58,
   "metadata": {},
   "outputs": [
    {
     "name": "stdout",
     "output_type": "stream",
     "text": [
      "Accuracy : 0.5580 [TP / N] Proportion of predicted labels that match the true labels. Best: 1, Worst: 0\n",
      "Precision: 0.5611 [TP / (TP + FP)] Not to label a negative sample as positive.        Best: 1, Worst: 0\n",
      "Recall   : 0.7074 [TP / (TP + FN)] Find all the positive samples.                     Best: 1, Worst: 0\n",
      "-----------------------------------------------------------------------------------------------------------\n",
      "TP: True Positives, FP: False Positives, TN: True Negatives, FN: False Negatives, N: Number of samples\n"
     ]
    }
   ],
   "source": [
    "summary_report(y_test, lr_y_pred)"
   ]
  },
  {
   "cell_type": "code",
   "execution_count": 59,
   "metadata": {},
   "outputs": [
    {
     "data": {
      "text/plain": [
       "array([[-0.68396132, -2.01048993,  0.34125691,  3.24580014,  0.06620221,\n",
       "        -0.175045  ,  0.02400656, -2.1655052 ,  1.16646288]])"
      ]
     },
     "execution_count": 59,
     "metadata": {},
     "output_type": "execute_result"
    }
   ],
   "source": [
    "lr.coef_"
   ]
  },
  {
   "cell_type": "code",
   "execution_count": 60,
   "metadata": {},
   "outputs": [],
   "source": [
    "coef_table = pd.DataFrame(list(features_name)).copy()\n",
    "coef_table.insert(len(coef_table.columns),\"Coefs\",lr.coef_.transpose())"
   ]
  },
  {
   "cell_type": "code",
   "execution_count": 61,
   "metadata": {},
   "outputs": [
    {
     "data": {
      "text/html": [
       "<div>\n",
       "<style scoped>\n",
       "    .dataframe tbody tr th:only-of-type {\n",
       "        vertical-align: middle;\n",
       "    }\n",
       "\n",
       "    .dataframe tbody tr th {\n",
       "        vertical-align: top;\n",
       "    }\n",
       "\n",
       "    .dataframe thead th {\n",
       "        text-align: right;\n",
       "    }\n",
       "</style>\n",
       "<table border=\"1\" class=\"dataframe\">\n",
       "  <thead>\n",
       "    <tr style=\"text-align: right;\">\n",
       "      <th></th>\n",
       "      <th>0</th>\n",
       "      <th>Coefs</th>\n",
       "    </tr>\n",
       "  </thead>\n",
       "  <tbody>\n",
       "    <tr>\n",
       "      <td>0</td>\n",
       "      <td>pickup_longitude</td>\n",
       "      <td>-0.683961</td>\n",
       "    </tr>\n",
       "    <tr>\n",
       "      <td>1</td>\n",
       "      <td>pickup_latitude</td>\n",
       "      <td>-2.010490</td>\n",
       "    </tr>\n",
       "    <tr>\n",
       "      <td>2</td>\n",
       "      <td>fare_amount</td>\n",
       "      <td>0.341257</td>\n",
       "    </tr>\n",
       "    <tr>\n",
       "      <td>3</td>\n",
       "      <td>duration</td>\n",
       "      <td>3.245800</td>\n",
       "    </tr>\n",
       "    <tr>\n",
       "      <td>4</td>\n",
       "      <td>pickup_hour</td>\n",
       "      <td>0.066202</td>\n",
       "    </tr>\n",
       "    <tr>\n",
       "      <td>5</td>\n",
       "      <td>pickup_day</td>\n",
       "      <td>-0.175045</td>\n",
       "    </tr>\n",
       "    <tr>\n",
       "      <td>6</td>\n",
       "      <td>LaGu_airport</td>\n",
       "      <td>0.024007</td>\n",
       "    </tr>\n",
       "    <tr>\n",
       "      <td>7</td>\n",
       "      <td>haversine</td>\n",
       "      <td>-2.165505</td>\n",
       "    </tr>\n",
       "    <tr>\n",
       "      <td>8</td>\n",
       "      <td>speed</td>\n",
       "      <td>1.166463</td>\n",
       "    </tr>\n",
       "  </tbody>\n",
       "</table>\n",
       "</div>"
      ],
      "text/plain": [
       "                  0     Coefs\n",
       "0  pickup_longitude -0.683961\n",
       "1   pickup_latitude -2.010490\n",
       "2       fare_amount  0.341257\n",
       "3          duration  3.245800\n",
       "4       pickup_hour  0.066202\n",
       "5        pickup_day -0.175045\n",
       "6      LaGu_airport  0.024007\n",
       "7         haversine -2.165505\n",
       "8             speed  1.166463"
      ]
     },
     "execution_count": 61,
     "metadata": {},
     "output_type": "execute_result"
    }
   ],
   "source": [
    "coef_table"
   ]
  },
  {
   "cell_type": "markdown",
   "metadata": {},
   "source": [
    "#### Different approch"
   ]
  },
  {
   "cell_type": "markdown",
   "metadata": {},
   "source": [
    "The second approach is to remove all the payment type related to CSH, DIS and NOC which have the major amounts of no-tip records. We assume that the high records for zero tip might be related to non-registered data. So, we build a model based on CRD and UNK payment type."
   ]
  },
  {
   "cell_type": "markdown",
   "metadata": {},
   "source": [
    "first we create some random sample from our main dataset."
   ]
  },
  {
   "cell_type": "code",
   "execution_count": 62,
   "metadata": {},
   "outputs": [],
   "source": [
    "ds=df.sample(300000)"
   ]
  },
  {
   "cell_type": "markdown",
   "metadata": {},
   "source": [
    "Replace non zero tip values with 1 and the rest with 0."
   ]
  },
  {
   "cell_type": "code",
   "execution_count": 63,
   "metadata": {},
   "outputs": [
    {
     "data": {
      "text/plain": [
       "1.0    156555\n",
       "0.0    143445\n",
       "Name: tip_amount, dtype: int64"
      ]
     },
     "execution_count": 63,
     "metadata": {},
     "output_type": "execute_result"
    }
   ],
   "source": [
    "ds.loc[df.tip_amount != 0, 'tip_amount'] = 1\n",
    "ds.loc[df.tip_amount == 0, 'tip_amount'] = 0\n",
    "\n",
    "ds['tip_amount'].value_counts()"
   ]
  },
  {
   "cell_type": "code",
   "execution_count": 64,
   "metadata": {},
   "outputs": [],
   "source": [
    "ds = ds.drop(ds[(ds['payment_type']=='CSH')].index, axis=0)"
   ]
  },
  {
   "cell_type": "code",
   "execution_count": 65,
   "metadata": {},
   "outputs": [],
   "source": [
    "ds = ds.drop(ds[(ds['payment_type']=='DIS')|(ds['payment_type']=='NOC')].index, axis=0)"
   ]
  },
  {
   "cell_type": "code",
   "execution_count": 66,
   "metadata": {},
   "outputs": [
    {
     "data": {
      "text/plain": [
       "array(['CRD', 'UNK'], dtype=object)"
      ]
     },
     "execution_count": 66,
     "metadata": {},
     "output_type": "execute_result"
    }
   ],
   "source": [
    "ds.payment_type.unique()"
   ]
  },
  {
   "cell_type": "code",
   "execution_count": 67,
   "metadata": {},
   "outputs": [],
   "source": [
    "ds = ds.drop(['pickup_datetime','dropoff_datetime', 'dropoff_longitude',\n",
    "              'dropoff_latitude','dropoff_hour',\n",
    "              'dropoff_day', 'trip_time_in_secs',\n",
    "             'trip_distance', 'mta_tax', 'tolls_amount', \n",
    "              'surcharge','rate_code', 'passenger_count','vendor_id','payment_type'], axis =1 )"
   ]
  },
  {
   "cell_type": "code",
   "execution_count": 68,
   "metadata": {},
   "outputs": [],
   "source": [
    "y = ds['tip_amount']\n",
    "x = ds.drop(['tip_amount'], axis =1 )"
   ]
  },
  {
   "cell_type": "code",
   "execution_count": 69,
   "metadata": {},
   "outputs": [
    {
     "data": {
      "text/plain": [
       "1.0    156536\n",
       "0.0      4570\n",
       "Name: tip_amount, dtype: int64"
      ]
     },
     "execution_count": 69,
     "metadata": {},
     "output_type": "execute_result"
    }
   ],
   "source": [
    "y.value_counts()"
   ]
  },
  {
   "cell_type": "markdown",
   "metadata": {},
   "source": [
    "The target data is imbalance. We study it further below"
   ]
  },
  {
   "cell_type": "code",
   "execution_count": 70,
   "metadata": {},
   "outputs": [],
   "source": [
    "x = x.set_index(['medallion', 'hack_license'])\n"
   ]
  },
  {
   "cell_type": "code",
   "execution_count": 71,
   "metadata": {},
   "outputs": [
    {
     "data": {
      "text/html": [
       "<div>\n",
       "<style scoped>\n",
       "    .dataframe tbody tr th:only-of-type {\n",
       "        vertical-align: middle;\n",
       "    }\n",
       "\n",
       "    .dataframe tbody tr th {\n",
       "        vertical-align: top;\n",
       "    }\n",
       "\n",
       "    .dataframe thead th {\n",
       "        text-align: right;\n",
       "    }\n",
       "</style>\n",
       "<table border=\"1\" class=\"dataframe\">\n",
       "  <thead>\n",
       "    <tr style=\"text-align: right;\">\n",
       "      <th></th>\n",
       "      <th></th>\n",
       "      <th>pickup_longitude</th>\n",
       "      <th>pickup_latitude</th>\n",
       "      <th>fare_amount</th>\n",
       "      <th>duration</th>\n",
       "      <th>pickup_hour</th>\n",
       "      <th>pickup_day</th>\n",
       "      <th>LaGu_airport</th>\n",
       "      <th>haversine</th>\n",
       "      <th>speed</th>\n",
       "    </tr>\n",
       "    <tr>\n",
       "      <th>medallion</th>\n",
       "      <th>hack_license</th>\n",
       "      <th></th>\n",
       "      <th></th>\n",
       "      <th></th>\n",
       "      <th></th>\n",
       "      <th></th>\n",
       "      <th></th>\n",
       "      <th></th>\n",
       "      <th></th>\n",
       "      <th></th>\n",
       "    </tr>\n",
       "  </thead>\n",
       "  <tbody>\n",
       "    <tr>\n",
       "      <td>FFB2AA0A5F7EA57B18799EB60CB5E792</td>\n",
       "      <td>208293D063814ED3E58EBB118E7E25AE</td>\n",
       "      <td>-73.993301</td>\n",
       "      <td>40.737644</td>\n",
       "      <td>13.5</td>\n",
       "      <td>811</td>\n",
       "      <td>20</td>\n",
       "      <td>2</td>\n",
       "      <td>False</td>\n",
       "      <td>5.013232</td>\n",
       "      <td>22.253559</td>\n",
       "    </tr>\n",
       "    <tr>\n",
       "      <td>B48B1375CD301CADFC4AA5208B5C157C</td>\n",
       "      <td>0AD8D9ED455E6C0A5737A7F4D508506B</td>\n",
       "      <td>-74.016380</td>\n",
       "      <td>40.705521</td>\n",
       "      <td>17.0</td>\n",
       "      <td>960</td>\n",
       "      <td>13</td>\n",
       "      <td>2</td>\n",
       "      <td>False</td>\n",
       "      <td>5.851636</td>\n",
       "      <td>21.943634</td>\n",
       "    </tr>\n",
       "    <tr>\n",
       "      <td>FC10E421AAE21F8BAAB9CD33B116BF34</td>\n",
       "      <td>DCF73C716FDC0975D728DDCD335C7AF7</td>\n",
       "      <td>-73.985626</td>\n",
       "      <td>40.718006</td>\n",
       "      <td>14.5</td>\n",
       "      <td>615</td>\n",
       "      <td>3</td>\n",
       "      <td>6</td>\n",
       "      <td>False</td>\n",
       "      <td>6.067691</td>\n",
       "      <td>35.518190</td>\n",
       "    </tr>\n",
       "    <tr>\n",
       "      <td>EF10D5A08A0D103A1701537C93FD55AC</td>\n",
       "      <td>9C214D350ED6FC5C321306CEB53D23C4</td>\n",
       "      <td>-73.959618</td>\n",
       "      <td>40.760208</td>\n",
       "      <td>9.0</td>\n",
       "      <td>673</td>\n",
       "      <td>7</td>\n",
       "      <td>0</td>\n",
       "      <td>False</td>\n",
       "      <td>1.624635</td>\n",
       "      <td>8.690469</td>\n",
       "    </tr>\n",
       "    <tr>\n",
       "      <td>B0B78CD05C8A1737E24F87459FC04B33</td>\n",
       "      <td>27B041361D07EE9FAD1F51C099204E18</td>\n",
       "      <td>-73.996933</td>\n",
       "      <td>40.737316</td>\n",
       "      <td>8.5</td>\n",
       "      <td>584</td>\n",
       "      <td>21</td>\n",
       "      <td>5</td>\n",
       "      <td>False</td>\n",
       "      <td>2.260813</td>\n",
       "      <td>13.936520</td>\n",
       "    </tr>\n",
       "  </tbody>\n",
       "</table>\n",
       "</div>"
      ],
      "text/plain": [
       "                                                                   pickup_longitude  \\\n",
       "medallion                        hack_license                                         \n",
       "FFB2AA0A5F7EA57B18799EB60CB5E792 208293D063814ED3E58EBB118E7E25AE        -73.993301   \n",
       "B48B1375CD301CADFC4AA5208B5C157C 0AD8D9ED455E6C0A5737A7F4D508506B        -74.016380   \n",
       "FC10E421AAE21F8BAAB9CD33B116BF34 DCF73C716FDC0975D728DDCD335C7AF7        -73.985626   \n",
       "EF10D5A08A0D103A1701537C93FD55AC 9C214D350ED6FC5C321306CEB53D23C4        -73.959618   \n",
       "B0B78CD05C8A1737E24F87459FC04B33 27B041361D07EE9FAD1F51C099204E18        -73.996933   \n",
       "\n",
       "                                                                   pickup_latitude  \\\n",
       "medallion                        hack_license                                        \n",
       "FFB2AA0A5F7EA57B18799EB60CB5E792 208293D063814ED3E58EBB118E7E25AE        40.737644   \n",
       "B48B1375CD301CADFC4AA5208B5C157C 0AD8D9ED455E6C0A5737A7F4D508506B        40.705521   \n",
       "FC10E421AAE21F8BAAB9CD33B116BF34 DCF73C716FDC0975D728DDCD335C7AF7        40.718006   \n",
       "EF10D5A08A0D103A1701537C93FD55AC 9C214D350ED6FC5C321306CEB53D23C4        40.760208   \n",
       "B0B78CD05C8A1737E24F87459FC04B33 27B041361D07EE9FAD1F51C099204E18        40.737316   \n",
       "\n",
       "                                                                   fare_amount  \\\n",
       "medallion                        hack_license                                    \n",
       "FFB2AA0A5F7EA57B18799EB60CB5E792 208293D063814ED3E58EBB118E7E25AE         13.5   \n",
       "B48B1375CD301CADFC4AA5208B5C157C 0AD8D9ED455E6C0A5737A7F4D508506B         17.0   \n",
       "FC10E421AAE21F8BAAB9CD33B116BF34 DCF73C716FDC0975D728DDCD335C7AF7         14.5   \n",
       "EF10D5A08A0D103A1701537C93FD55AC 9C214D350ED6FC5C321306CEB53D23C4          9.0   \n",
       "B0B78CD05C8A1737E24F87459FC04B33 27B041361D07EE9FAD1F51C099204E18          8.5   \n",
       "\n",
       "                                                                   duration  \\\n",
       "medallion                        hack_license                                 \n",
       "FFB2AA0A5F7EA57B18799EB60CB5E792 208293D063814ED3E58EBB118E7E25AE       811   \n",
       "B48B1375CD301CADFC4AA5208B5C157C 0AD8D9ED455E6C0A5737A7F4D508506B       960   \n",
       "FC10E421AAE21F8BAAB9CD33B116BF34 DCF73C716FDC0975D728DDCD335C7AF7       615   \n",
       "EF10D5A08A0D103A1701537C93FD55AC 9C214D350ED6FC5C321306CEB53D23C4       673   \n",
       "B0B78CD05C8A1737E24F87459FC04B33 27B041361D07EE9FAD1F51C099204E18       584   \n",
       "\n",
       "                                                                   pickup_hour  \\\n",
       "medallion                        hack_license                                    \n",
       "FFB2AA0A5F7EA57B18799EB60CB5E792 208293D063814ED3E58EBB118E7E25AE           20   \n",
       "B48B1375CD301CADFC4AA5208B5C157C 0AD8D9ED455E6C0A5737A7F4D508506B           13   \n",
       "FC10E421AAE21F8BAAB9CD33B116BF34 DCF73C716FDC0975D728DDCD335C7AF7            3   \n",
       "EF10D5A08A0D103A1701537C93FD55AC 9C214D350ED6FC5C321306CEB53D23C4            7   \n",
       "B0B78CD05C8A1737E24F87459FC04B33 27B041361D07EE9FAD1F51C099204E18           21   \n",
       "\n",
       "                                                                   pickup_day  \\\n",
       "medallion                        hack_license                                   \n",
       "FFB2AA0A5F7EA57B18799EB60CB5E792 208293D063814ED3E58EBB118E7E25AE           2   \n",
       "B48B1375CD301CADFC4AA5208B5C157C 0AD8D9ED455E6C0A5737A7F4D508506B           2   \n",
       "FC10E421AAE21F8BAAB9CD33B116BF34 DCF73C716FDC0975D728DDCD335C7AF7           6   \n",
       "EF10D5A08A0D103A1701537C93FD55AC 9C214D350ED6FC5C321306CEB53D23C4           0   \n",
       "B0B78CD05C8A1737E24F87459FC04B33 27B041361D07EE9FAD1F51C099204E18           5   \n",
       "\n",
       "                                                                   LaGu_airport  \\\n",
       "medallion                        hack_license                                     \n",
       "FFB2AA0A5F7EA57B18799EB60CB5E792 208293D063814ED3E58EBB118E7E25AE         False   \n",
       "B48B1375CD301CADFC4AA5208B5C157C 0AD8D9ED455E6C0A5737A7F4D508506B         False   \n",
       "FC10E421AAE21F8BAAB9CD33B116BF34 DCF73C716FDC0975D728DDCD335C7AF7         False   \n",
       "EF10D5A08A0D103A1701537C93FD55AC 9C214D350ED6FC5C321306CEB53D23C4         False   \n",
       "B0B78CD05C8A1737E24F87459FC04B33 27B041361D07EE9FAD1F51C099204E18         False   \n",
       "\n",
       "                                                                   haversine  \\\n",
       "medallion                        hack_license                                  \n",
       "FFB2AA0A5F7EA57B18799EB60CB5E792 208293D063814ED3E58EBB118E7E25AE   5.013232   \n",
       "B48B1375CD301CADFC4AA5208B5C157C 0AD8D9ED455E6C0A5737A7F4D508506B   5.851636   \n",
       "FC10E421AAE21F8BAAB9CD33B116BF34 DCF73C716FDC0975D728DDCD335C7AF7   6.067691   \n",
       "EF10D5A08A0D103A1701537C93FD55AC 9C214D350ED6FC5C321306CEB53D23C4   1.624635   \n",
       "B0B78CD05C8A1737E24F87459FC04B33 27B041361D07EE9FAD1F51C099204E18   2.260813   \n",
       "\n",
       "                                                                       speed  \n",
       "medallion                        hack_license                                 \n",
       "FFB2AA0A5F7EA57B18799EB60CB5E792 208293D063814ED3E58EBB118E7E25AE  22.253559  \n",
       "B48B1375CD301CADFC4AA5208B5C157C 0AD8D9ED455E6C0A5737A7F4D508506B  21.943634  \n",
       "FC10E421AAE21F8BAAB9CD33B116BF34 DCF73C716FDC0975D728DDCD335C7AF7  35.518190  \n",
       "EF10D5A08A0D103A1701537C93FD55AC 9C214D350ED6FC5C321306CEB53D23C4   8.690469  \n",
       "B0B78CD05C8A1737E24F87459FC04B33 27B041361D07EE9FAD1F51C099204E18  13.936520  "
      ]
     },
     "execution_count": 71,
     "metadata": {},
     "output_type": "execute_result"
    }
   ],
   "source": [
    "x.head()"
   ]
  },
  {
   "cell_type": "code",
   "execution_count": 72,
   "metadata": {},
   "outputs": [
    {
     "data": {
      "text/plain": [
       "(161106, 9)"
      ]
     },
     "execution_count": 72,
     "metadata": {},
     "output_type": "execute_result"
    }
   ],
   "source": [
    "x.shape"
   ]
  },
  {
   "cell_type": "code",
   "execution_count": 73,
   "metadata": {},
   "outputs": [],
   "source": [
    "#Spliting the train and test data\n",
    "\n",
    "x_train,x_test, y_train,y_test = train_test_split(x,y, random_state = 20, test_size=0.2)"
   ]
  },
  {
   "cell_type": "code",
   "execution_count": 74,
   "metadata": {},
   "outputs": [
    {
     "name": "stdout",
     "output_type": "stream",
     "text": [
      "Training data shape:  (128884, 9)\n",
      "Testing data shape:  (32222, 9)\n"
     ]
    }
   ],
   "source": [
    "# Scale each feature to 0-1\n",
    "scaler = MinMaxScaler(feature_range = (0, 1))\n",
    "\n",
    "# Fit on the training data and transform both training and testing data\n",
    "scaler.fit(x_train)\n",
    "x_train = scaler.transform(x_train)\n",
    "x_test = scaler.transform(x_test)\n",
    "\n",
    "print('Training data shape: ', x_train.shape)\n",
    "print('Testing data shape: ', x_test.shape)"
   ]
  },
  {
   "cell_type": "code",
   "execution_count": 75,
   "metadata": {},
   "outputs": [
    {
     "data": {
      "text/plain": [
       "LogisticRegression(C=1.0, class_weight=None, dual=False, fit_intercept=True,\n",
       "                   intercept_scaling=1, l1_ratio=None, max_iter=100,\n",
       "                   multi_class='auto', n_jobs=None, penalty='l1',\n",
       "                   random_state=None, solver='liblinear', tol=0.0001, verbose=0,\n",
       "                   warm_start=False)"
      ]
     },
     "execution_count": 75,
     "metadata": {},
     "output_type": "execute_result"
    }
   ],
   "source": [
    "lr = LogisticRegression(penalty='l1', solver='liblinear')\n",
    "lr.fit(x_train, y_train)"
   ]
  },
  {
   "cell_type": "code",
   "execution_count": 76,
   "metadata": {},
   "outputs": [],
   "source": [
    "lr_y_pred = lr.predict(x_test)\n"
   ]
  },
  {
   "cell_type": "code",
   "execution_count": 77,
   "metadata": {},
   "outputs": [],
   "source": [
    "lr_y_prob = lr.predict_proba(x_test)[:,1]\n"
   ]
  },
  {
   "cell_type": "code",
   "execution_count": 78,
   "metadata": {},
   "outputs": [
    {
     "data": {
      "image/png": "[encoded data removed]",
      "text/plain": [
       "<Figure size 576x576 with 1 Axes>"
      ]
     },
     "metadata": {
      "needs_background": "light"
     },
     "output_type": "display_data"
    }
   ],
   "source": [
    "# For class 1, find the area under the curve\n",
    "\n",
    "# Find fpr, tpr\n",
    "\n",
    "fpr, tpr, _ = roc_curve(y_test, lr_y_prob)\n",
    "\n",
    "# Find auc\n",
    "\n",
    "roc_auc = auc(fpr, tpr)\n",
    "\n",
    "#Plot of a ROC curve for class 1 (has_cancer)\n",
    "plt.figure(figsize=[8,8])\n",
    "\n",
    "#Plot fpr, tpr\n",
    "plt.plot(fpr, tpr, color='darkorange', lw = 2, label = 'ROC curve (area = %0.4f)' % roc_auc)\n",
    "plt.plot([0, 1], [0, 1], 'k--', linewidth=4)\n",
    "plt.xlim([-0.05, 1.0])\n",
    "plt.ylim([-0.05, 1.05])\n",
    "plt.xlabel('False Positive Rate', fontsize=18)\n",
    "plt.ylabel('True Positive Rate', fontsize=18)\n",
    "plt.title('Receiver operating characteristic', fontsize=18)\n",
    "plt.legend(loc=\"lower right\")\n",
    "plt.show()"
   ]
  },
  {
   "cell_type": "code",
   "execution_count": 79,
   "metadata": {},
   "outputs": [
    {
     "data": {
      "text/plain": [
       "array([[    0,   902],\n",
       "       [    0, 31320]], dtype=int64)"
      ]
     },
     "execution_count": 79,
     "metadata": {},
     "output_type": "execute_result"
    }
   ],
   "source": [
    "confusion_matrix(y_test, lr_y_pred)"
   ]
  },
  {
   "cell_type": "code",
   "execution_count": 80,
   "metadata": {},
   "outputs": [],
   "source": [
    "def summary_report(actual,prediction):\n",
    "    \n",
    "    accuracy_ = accuracy_score(actual, prediction)\n",
    "    precision_ = precision_score(actual, prediction)\n",
    "    recall_ = recall_score(actual, prediction)\n",
    "    \n",
    "    print('Accuracy : %.4f [TP / N] Proportion of predicted labels that match the true labels. Best: 1, Worst: 0' % accuracy_)\n",
    "    print('Precision: %.4f [TP / (TP + FP)] Not to label a negative sample as positive.        Best: 1, Worst: 0' % precision_)\n",
    "    print('Recall   : %.4f [TP / (TP + FN)] Find all the positive samples.                     Best: 1, Worst: 0' % recall_)\n",
    "    print('-' * 107)\n",
    "    print('TP: True Positives, FP: False Positives, TN: True Negatives, FN: False Negatives, N: Number of samples')"
   ]
  },
  {
   "cell_type": "code",
   "execution_count": 81,
   "metadata": {},
   "outputs": [
    {
     "name": "stdout",
     "output_type": "stream",
     "text": [
      "Accuracy : 0.9720 [TP / N] Proportion of predicted labels that match the true labels. Best: 1, Worst: 0\n",
      "Precision: 0.9720 [TP / (TP + FP)] Not to label a negative sample as positive.        Best: 1, Worst: 0\n",
      "Recall   : 1.0000 [TP / (TP + FN)] Find all the positive samples.                     Best: 1, Worst: 0\n",
      "-----------------------------------------------------------------------------------------------------------\n",
      "TP: True Positives, FP: False Positives, TN: True Negatives, FN: False Negatives, N: Number of samples\n"
     ]
    }
   ],
   "source": [
    "summary_report(y_test, lr_y_pred)"
   ]
  },
  {
   "cell_type": "markdown",
   "metadata": {},
   "source": [
    "### Second Model: Random Forest\n"
   ]
  },
  {
   "cell_type": "code",
   "execution_count": 82,
   "metadata": {},
   "outputs": [],
   "source": [
    "random_forest = RandomForestClassifier(n_estimators = 100, random_state = 50, verbose = 1)\n"
   ]
  },
  {
   "cell_type": "code",
   "execution_count": 83,
   "metadata": {},
   "outputs": [
    {
     "name": "stderr",
     "output_type": "stream",
     "text": [
      "[Parallel(n_jobs=1)]: Using backend SequentialBackend with 1 concurrent workers.\n",
      "[Parallel(n_jobs=1)]: Done 100 out of 100 | elapsed:   48.1s finished\n"
     ]
    },
    {
     "data": {
      "text/plain": [
       "RandomForestClassifier(bootstrap=True, ccp_alpha=0.0, class_weight=None,\n",
       "                       criterion='gini', max_depth=None, max_features='auto',\n",
       "                       max_leaf_nodes=None, max_samples=None,\n",
       "                       min_impurity_decrease=0.0, min_impurity_split=None,\n",
       "                       min_samples_leaf=1, min_samples_split=2,\n",
       "                       min_weight_fraction_leaf=0.0, n_estimators=100,\n",
       "                       n_jobs=None, oob_score=False, random_state=50, verbose=1,\n",
       "                       warm_start=False)"
      ]
     },
     "execution_count": 83,
     "metadata": {},
     "output_type": "execute_result"
    }
   ],
   "source": [
    "random_forest.fit(x_train,y_train)\n"
   ]
  },
  {
   "cell_type": "code",
   "execution_count": 84,
   "metadata": {},
   "outputs": [],
   "source": [
    "feature_importance_values = random_forest.feature_importances_\n",
    "feature_importances = pd.DataFrame({'feature': x, 'importance': feature_importance_values})"
   ]
  },
  {
   "cell_type": "code",
   "execution_count": 85,
   "metadata": {},
   "outputs": [
    {
     "data": {
      "text/html": [
       "<div>\n",
       "<style scoped>\n",
       "    .dataframe tbody tr th:only-of-type {\n",
       "        vertical-align: middle;\n",
       "    }\n",
       "\n",
       "    .dataframe tbody tr th {\n",
       "        vertical-align: top;\n",
       "    }\n",
       "\n",
       "    .dataframe thead th {\n",
       "        text-align: right;\n",
       "    }\n",
       "</style>\n",
       "<table border=\"1\" class=\"dataframe\">\n",
       "  <thead>\n",
       "    <tr style=\"text-align: right;\">\n",
       "      <th></th>\n",
       "      <th>feature</th>\n",
       "      <th>importance</th>\n",
       "    </tr>\n",
       "  </thead>\n",
       "  <tbody>\n",
       "    <tr>\n",
       "      <td>0</td>\n",
       "      <td>(p, i, c, k, u, p, _, l, o, n, g, i, t, u, d, e)</td>\n",
       "      <td>0.170690</td>\n",
       "    </tr>\n",
       "    <tr>\n",
       "      <td>1</td>\n",
       "      <td>(p, i, c, k, u, p, _, l, a, t, i, t, u, d, e)</td>\n",
       "      <td>0.179220</td>\n",
       "    </tr>\n",
       "    <tr>\n",
       "      <td>2</td>\n",
       "      <td>(f, a, r, e, _, a, m, o, u, n, t)</td>\n",
       "      <td>0.077279</td>\n",
       "    </tr>\n",
       "    <tr>\n",
       "      <td>3</td>\n",
       "      <td>(d, u, r, a, t, i, o, n)</td>\n",
       "      <td>0.107306</td>\n",
       "    </tr>\n",
       "    <tr>\n",
       "      <td>4</td>\n",
       "      <td>(p, i, c, k, u, p, _, h, o, u, r)</td>\n",
       "      <td>0.072071</td>\n",
       "    </tr>\n",
       "    <tr>\n",
       "      <td>5</td>\n",
       "      <td>(p, i, c, k, u, p, _, d, a, y)</td>\n",
       "      <td>0.047780</td>\n",
       "    </tr>\n",
       "    <tr>\n",
       "      <td>6</td>\n",
       "      <td>(L, a, G, u, _, a, i, r, p, o, r, t)</td>\n",
       "      <td>0.000693</td>\n",
       "    </tr>\n",
       "    <tr>\n",
       "      <td>7</td>\n",
       "      <td>(h, a, v, e, r, s, i, n, e)</td>\n",
       "      <td>0.173625</td>\n",
       "    </tr>\n",
       "    <tr>\n",
       "      <td>8</td>\n",
       "      <td>(s, p, e, e, d)</td>\n",
       "      <td>0.171335</td>\n",
       "    </tr>\n",
       "  </tbody>\n",
       "</table>\n",
       "</div>"
      ],
      "text/plain": [
       "                                            feature  importance\n",
       "0  (p, i, c, k, u, p, _, l, o, n, g, i, t, u, d, e)    0.170690\n",
       "1     (p, i, c, k, u, p, _, l, a, t, i, t, u, d, e)    0.179220\n",
       "2                 (f, a, r, e, _, a, m, o, u, n, t)    0.077279\n",
       "3                          (d, u, r, a, t, i, o, n)    0.107306\n",
       "4                 (p, i, c, k, u, p, _, h, o, u, r)    0.072071\n",
       "5                    (p, i, c, k, u, p, _, d, a, y)    0.047780\n",
       "6              (L, a, G, u, _, a, i, r, p, o, r, t)    0.000693\n",
       "7                       (h, a, v, e, r, s, i, n, e)    0.173625\n",
       "8                                   (s, p, e, e, d)    0.171335"
      ]
     },
     "execution_count": 85,
     "metadata": {},
     "output_type": "execute_result"
    }
   ],
   "source": [
    "feature_importances\n"
   ]
  },
  {
   "cell_type": "code",
   "execution_count": 86,
   "metadata": {},
   "outputs": [
    {
     "name": "stderr",
     "output_type": "stream",
     "text": [
      "[Parallel(n_jobs=1)]: Using backend SequentialBackend with 1 concurrent workers.\n",
      "[Parallel(n_jobs=1)]: Done 100 out of 100 | elapsed:    0.7s finished\n"
     ]
    }
   ],
   "source": [
    "rf_y_pred = random_forest.predict(x_test)\n"
   ]
  },
  {
   "cell_type": "code",
   "execution_count": 87,
   "metadata": {},
   "outputs": [
    {
     "name": "stderr",
     "output_type": "stream",
     "text": [
      "[Parallel(n_jobs=1)]: Using backend SequentialBackend with 1 concurrent workers.\n",
      "[Parallel(n_jobs=1)]: Done 100 out of 100 | elapsed:    0.6s finished\n"
     ]
    }
   ],
   "source": [
    "rf_y_prob = random_forest.predict_proba(x_test)[:, 1]\n"
   ]
  },
  {
   "cell_type": "code",
   "execution_count": 88,
   "metadata": {},
   "outputs": [
    {
     "data": {
      "image/png": "[encoded data removed]",
      "text/plain": [
       "<Figure size 576x576 with 1 Axes>"
      ]
     },
     "metadata": {
      "needs_background": "light"
     },
     "output_type": "display_data"
    }
   ],
   "source": [
    "# For class 1, find the area under the curve\n",
    "\n",
    "# Find fpr, tpr\n",
    "\n",
    "fpr, tpr, _ = roc_curve(y_test, rf_y_prob)\n",
    "\n",
    "# Find auc\n",
    "\n",
    "roc_auc = auc(fpr, tpr)\n",
    "\n",
    "#Plot of a ROC curve for class 1 (default)\n",
    "plt.figure(figsize=[8,8])\n",
    "\n",
    "#Plot fpr, tpr\n",
    "plt.plot(fpr, tpr, color='darkorange', lw = 2, label = 'ROC curve (area = %0.4f)' % roc_auc)\n",
    "plt.plot([0, 1], [0, 1], 'k--', linewidth=4)\n",
    "plt.xlim([-0.05, 1.0])\n",
    "plt.ylim([-0.05, 1.05])\n",
    "plt.xlabel('False Positive Rate', fontsize=18)\n",
    "plt.ylabel('True Positive Rate', fontsize=18)\n",
    "plt.title('Receiver operating characteristic', fontsize=18)\n",
    "plt.legend(loc=\"lower right\")\n",
    "plt.show()"
   ]
  },
  {
   "cell_type": "code",
   "execution_count": 89,
   "metadata": {},
   "outputs": [
    {
     "name": "stdout",
     "output_type": "stream",
     "text": [
      "Accuracy : 0.9719 [TP / N] Proportion of predicted labels that match the true labels. Best: 1, Worst: 0\n",
      "Precision: 0.9720 [TP / (TP + FP)] Not to label a negative sample as positive.        Best: 1, Worst: 0\n",
      "Recall   : 0.9999 [TP / (TP + FN)] Find all the positive samples.                     Best: 1, Worst: 0\n",
      "-----------------------------------------------------------------------------------------------------------\n",
      "TP: True Positives, FP: False Positives, TN: True Negatives, FN: False Negatives, N: Number of samples\n"
     ]
    }
   ],
   "source": [
    "summary_report(y_test, rf_y_pred)\n"
   ]
  },
  {
   "cell_type": "markdown",
   "metadata": {},
   "source": [
    "#### Random Forest: different hyperparameter\n"
   ]
  },
  {
   "cell_type": "code",
   "execution_count": 90,
   "metadata": {},
   "outputs": [],
   "source": [
    "rf = RandomForestClassifier(n_estimators = 1000, criterion='entropy',class_weight='balanced', max_depth=10 ,random_state = 50, verbose = 1)\n"
   ]
  },
  {
   "cell_type": "code",
   "execution_count": 91,
   "metadata": {},
   "outputs": [
    {
     "name": "stderr",
     "output_type": "stream",
     "text": [
      "[Parallel(n_jobs=1)]: Using backend SequentialBackend with 1 concurrent workers.\n",
      "[Parallel(n_jobs=1)]: Done 1000 out of 1000 | elapsed:  4.5min finished\n"
     ]
    },
    {
     "data": {
      "text/plain": [
       "RandomForestClassifier(bootstrap=True, ccp_alpha=0.0, class_weight='balanced',\n",
       "                       criterion='entropy', max_depth=10, max_features='auto',\n",
       "                       max_leaf_nodes=None, max_samples=None,\n",
       "                       min_impurity_decrease=0.0, min_impurity_split=None,\n",
       "                       min_samples_leaf=1, min_samples_split=2,\n",
       "                       min_weight_fraction_leaf=0.0, n_estimators=1000,\n",
       "                       n_jobs=None, oob_score=False, random_state=50, verbose=1,\n",
       "                       warm_start=False)"
      ]
     },
     "execution_count": 91,
     "metadata": {},
     "output_type": "execute_result"
    }
   ],
   "source": [
    "rf.fit(x_train,y_train)\n"
   ]
  },
  {
   "cell_type": "code",
   "execution_count": 92,
   "metadata": {},
   "outputs": [
    {
     "name": "stderr",
     "output_type": "stream",
     "text": [
      "[Parallel(n_jobs=1)]: Using backend SequentialBackend with 1 concurrent workers.\n",
      "[Parallel(n_jobs=1)]: Done 1000 out of 1000 | elapsed:    3.6s finished\n"
     ]
    }
   ],
   "source": [
    "rf_y_pred = rf.predict(x_test)\n"
   ]
  },
  {
   "cell_type": "code",
   "execution_count": 93,
   "metadata": {},
   "outputs": [
    {
     "name": "stderr",
     "output_type": "stream",
     "text": [
      "[Parallel(n_jobs=1)]: Using backend SequentialBackend with 1 concurrent workers.\n",
      "[Parallel(n_jobs=1)]: Done 1000 out of 1000 | elapsed:    3.8s finished\n"
     ]
    }
   ],
   "source": [
    "rf_y_prob = rf.predict_proba(x_test)[:, 1]\n"
   ]
  },
  {
   "cell_type": "code",
   "execution_count": 94,
   "metadata": {},
   "outputs": [
    {
     "data": {
      "image/png": "[encoded data removed]",
      "text/plain": [
       "<Figure size 576x576 with 1 Axes>"
      ]
     },
     "metadata": {
      "needs_background": "light"
     },
     "output_type": "display_data"
    }
   ],
   "source": [
    "# For class 1, find the area under the curve\n",
    "\n",
    "# Find fpr, tpr\n",
    "\n",
    "fpr, tpr, _ = roc_curve(y_test, rf_y_prob)\n",
    "\n",
    "# Find auc\n",
    "\n",
    "roc_auc = auc(fpr, tpr)\n",
    "\n",
    "#Plot of a ROC curve for class 1 (default)\n",
    "plt.figure(figsize=[8,8])\n",
    "\n",
    "#Plot fpr, tpr\n",
    "plt.plot(fpr, tpr, color='darkorange', lw = 2, label = 'ROC curve (area = %0.4f)' % roc_auc)\n",
    "plt.plot([0, 1], [0, 1], 'k--', linewidth=4)\n",
    "plt.xlim([-0.05, 1.0])\n",
    "plt.ylim([-0.05, 1.05])\n",
    "plt.xlabel('False Positive Rate', fontsize=18)\n",
    "plt.ylabel('True Positive Rate', fontsize=18)\n",
    "plt.title('Receiver operating characteristic for', fontsize=18)\n",
    "plt.legend(loc=\"lower right\")\n",
    "plt.show()"
   ]
  },
  {
   "cell_type": "code",
   "execution_count": 95,
   "metadata": {},
   "outputs": [
    {
     "name": "stdout",
     "output_type": "stream",
     "text": [
      "Accuracy : 0.8568 [TP / N] Proportion of predicted labels that match the true labels. Best: 1, Worst: 0\n",
      "Precision: 0.9756 [TP / (TP + FP)] Not to label a negative sample as positive.        Best: 1, Worst: 0\n",
      "Recall   : 0.8745 [TP / (TP + FN)] Find all the positive samples.                     Best: 1, Worst: 0\n",
      "-----------------------------------------------------------------------------------------------------------\n",
      "TP: True Positives, FP: False Positives, TN: True Negatives, FN: False Negatives, N: Number of samples\n"
     ]
    }
   ],
   "source": [
    "summary_report(y_test, rf_y_pred)\n"
   ]
  },
  {
   "cell_type": "code",
   "execution_count": 96,
   "metadata": {},
   "outputs": [],
   "source": [
    "feature_importance_values = rf.feature_importances_\n"
   ]
  },
  {
   "cell_type": "code",
   "execution_count": 97,
   "metadata": {},
   "outputs": [],
   "source": [
    "feature_importances = pd.DataFrame({'feature': list(x.columns), 'importance': feature_importance_values})\n"
   ]
  },
  {
   "cell_type": "code",
   "execution_count": 98,
   "metadata": {},
   "outputs": [
    {
     "data": {
      "image/png": "[encoded data removed]",
      "text/plain": [
       "<Figure size 720x432 with 1 Axes>"
      ]
     },
     "metadata": {
      "needs_background": "light"
     },
     "output_type": "display_data"
    }
   ],
   "source": [
    "feature_importances = feature_importances.sort_values('importance', ascending = False).reset_index()\n",
    "    \n",
    "# Normalize the feature importances to add up to one\n",
    "feature_importances['importance_normalized'] = feature_importances['importance'] / feature_importances['importance'].sum()\n",
    "\n",
    "# Make a horizontal bar chart of feature importances\n",
    "plt.figure(figsize = (10, 6))\n",
    "ax = plt.subplot()\n",
    "    \n",
    "# Need to reverse the index to plot most important on top\n",
    "ax.barh(list(reversed(list(feature_importances.index[:15]))), \n",
    "feature_importances['importance_normalized'].head(15), align = 'center', edgecolor = 'k')\n",
    "    \n",
    "# Set the yticks and labels\n",
    "ax.set_yticks(list(reversed(list(feature_importances.index[:15]))))\n",
    "ax.set_yticklabels(feature_importances['feature'].head(15))\n",
    "    \n",
    "# Plot labeling\n",
    "plt.xlabel('Normalized Importance'); plt.title('Feature Importances')\n",
    "plt.show()"
   ]
  },
  {
   "cell_type": "markdown",
   "metadata": {},
   "source": [
    "### Third Model: XGBoost"
   ]
  },
  {
   "cell_type": "code",
   "execution_count": 99,
   "metadata": {},
   "outputs": [],
   "source": [
    "xgb = XGBClassifier(binary='logistic', random_state=50, )\n"
   ]
  },
  {
   "cell_type": "code",
   "execution_count": 100,
   "metadata": {},
   "outputs": [
    {
     "data": {
      "text/plain": [
       "XGBClassifier(base_score=0.5, binary='logistic', booster='gbtree',\n",
       "              colsample_bylevel=1, colsample_bynode=1, colsample_bytree=1,\n",
       "              gamma=0, learning_rate=0.1, max_delta_step=0, max_depth=3,\n",
       "              min_child_weight=1, missing=None, n_estimators=100, n_jobs=1,\n",
       "              nthread=None, objective='binary:logistic', random_state=50,\n",
       "              reg_alpha=0, reg_lambda=1, scale_pos_weight=1, seed=None,\n",
       "              silent=None, subsample=1, verbosity=1)"
      ]
     },
     "execution_count": 100,
     "metadata": {},
     "output_type": "execute_result"
    }
   ],
   "source": [
    "xgb.fit(x_train,y_train)\n"
   ]
  },
  {
   "cell_type": "code",
   "execution_count": 101,
   "metadata": {},
   "outputs": [],
   "source": [
    "xgb_y_pred = xgb.predict(x_test)\n"
   ]
  },
  {
   "cell_type": "code",
   "execution_count": 102,
   "metadata": {},
   "outputs": [],
   "source": [
    "xgb_y_prob = xgb.predict_proba(x_test)[:, 1]\n"
   ]
  },
  {
   "cell_type": "code",
   "execution_count": 103,
   "metadata": {},
   "outputs": [
    {
     "data": {
      "image/png": "[encoded data removed]",
      "text/plain": [
       "<Figure size 576x576 with 1 Axes>"
      ]
     },
     "metadata": {
      "needs_background": "light"
     },
     "output_type": "display_data"
    }
   ],
   "source": [
    "# For class 1, find the area under the curve\n",
    "\n",
    "# Find fpr, tpr\n",
    "\n",
    "fpr, tpr, _ = roc_curve(y_test, xgb_y_prob)\n",
    "\n",
    "# Find auc\n",
    "\n",
    "roc_auc = auc(fpr, tpr)\n",
    "\n",
    "#Plot of a ROC curve for class 1 (default)\n",
    "plt.figure(figsize=[8,8])\n",
    "\n",
    "#Plot fpr, tpr\n",
    "plt.plot(fpr, tpr, color='darkorange', lw = 2, label = 'ROC curve (area = %0.4f)' % roc_auc)\n",
    "plt.plot([0, 1], [0, 1], 'k--', linewidth=4)\n",
    "plt.xlim([-0.05, 1.0])\n",
    "plt.ylim([-0.05, 1.05])\n",
    "plt.xlabel('False Positive Rate', fontsize=18)\n",
    "plt.ylabel('True Positive Rate', fontsize=18)\n",
    "plt.title('Receiver operating characteristic', fontsize=18)\n",
    "plt.legend(loc=\"lower right\")\n",
    "plt.show()"
   ]
  },
  {
   "cell_type": "code",
   "execution_count": 104,
   "metadata": {},
   "outputs": [
    {
     "name": "stdout",
     "output_type": "stream",
     "text": [
      "Accuracy : 0.9720 [TP / N] Proportion of predicted labels that match the true labels. Best: 1, Worst: 0\n",
      "Precision: 0.9720 [TP / (TP + FP)] Not to label a negative sample as positive.        Best: 1, Worst: 0\n",
      "Recall   : 1.0000 [TP / (TP + FN)] Find all the positive samples.                     Best: 1, Worst: 0\n",
      "-----------------------------------------------------------------------------------------------------------\n",
      "TP: True Positives, FP: False Positives, TN: True Negatives, FN: False Negatives, N: Number of samples\n"
     ]
    }
   ],
   "source": [
    "summary_report(y_test, xgb_y_pred)\n"
   ]
  },
  {
   "cell_type": "code",
   "execution_count": 105,
   "metadata": {},
   "outputs": [],
   "source": [
    "#importance feature\n",
    "feature_importance_values = xgb.feature_importances_"
   ]
  },
  {
   "cell_type": "code",
   "execution_count": 106,
   "metadata": {},
   "outputs": [],
   "source": [
    "feature_importances = pd.DataFrame({'feature': list(x.columns), 'importance': feature_importance_values})\n"
   ]
  },
  {
   "cell_type": "code",
   "execution_count": 107,
   "metadata": {},
   "outputs": [
    {
     "data": {
      "image/png": "[encoded data removed]",
      "text/plain": [
       "<Figure size 720x432 with 1 Axes>"
      ]
     },
     "metadata": {
      "needs_background": "light"
     },
     "output_type": "display_data"
    }
   ],
   "source": [
    "feature_importances = feature_importances.sort_values('importance', ascending = False).reset_index()\n",
    "    \n",
    "# Normalize the feature importances to add up to one\n",
    "feature_importances['importance_normalized'] = feature_importances['importance'] / feature_importances['importance'].sum()\n",
    "\n",
    "# Make a horizontal bar chart of feature importances\n",
    "plt.figure(figsize = (10, 6))\n",
    "ax = plt.subplot()\n",
    "    \n",
    "# Need to reverse the index to plot most important on top\n",
    "ax.barh(list(reversed(list(feature_importances.index[:15]))), \n",
    "feature_importances['importance_normalized'].head(15), align = 'center', edgecolor = 'k')\n",
    "    \n",
    "# Set the yticks and labels\n",
    "ax.set_yticks(list(reversed(list(feature_importances.index[:15]))))\n",
    "ax.set_yticklabels(feature_importances['feature'].head(15))\n",
    "    \n",
    "# Plot labeling\n",
    "plt.xlabel('Normalized Importance'); plt.title('Feature Importances')\n",
    "plt.show()"
   ]
  },
  {
   "cell_type": "markdown",
   "metadata": {},
   "source": [
    "### Imbalanced data set- Over Sampling"
   ]
  },
  {
   "cell_type": "code",
   "execution_count": 108,
   "metadata": {},
   "outputs": [
    {
     "data": {
      "text/html": [
       "<div>\n",
       "<style scoped>\n",
       "    .dataframe tbody tr th:only-of-type {\n",
       "        vertical-align: middle;\n",
       "    }\n",
       "\n",
       "    .dataframe tbody tr th {\n",
       "        vertical-align: top;\n",
       "    }\n",
       "\n",
       "    .dataframe thead th {\n",
       "        text-align: right;\n",
       "    }\n",
       "</style>\n",
       "<table border=\"1\" class=\"dataframe\">\n",
       "  <thead>\n",
       "    <tr style=\"text-align: right;\">\n",
       "      <th></th>\n",
       "      <th>medallion</th>\n",
       "      <th>hack_license</th>\n",
       "      <th>pickup_longitude</th>\n",
       "      <th>pickup_latitude</th>\n",
       "      <th>fare_amount</th>\n",
       "      <th>tip_amount</th>\n",
       "      <th>duration</th>\n",
       "      <th>pickup_hour</th>\n",
       "      <th>pickup_day</th>\n",
       "      <th>LaGu_airport</th>\n",
       "      <th>haversine</th>\n",
       "      <th>speed</th>\n",
       "    </tr>\n",
       "  </thead>\n",
       "  <tbody>\n",
       "    <tr>\n",
       "      <td>7276649</td>\n",
       "      <td>FFB2AA0A5F7EA57B18799EB60CB5E792</td>\n",
       "      <td>208293D063814ED3E58EBB118E7E25AE</td>\n",
       "      <td>-73.993301</td>\n",
       "      <td>40.737644</td>\n",
       "      <td>13.5</td>\n",
       "      <td>1.0</td>\n",
       "      <td>811</td>\n",
       "      <td>20</td>\n",
       "      <td>2</td>\n",
       "      <td>False</td>\n",
       "      <td>5.013232</td>\n",
       "      <td>22.253559</td>\n",
       "    </tr>\n",
       "    <tr>\n",
       "      <td>6234553</td>\n",
       "      <td>B48B1375CD301CADFC4AA5208B5C157C</td>\n",
       "      <td>0AD8D9ED455E6C0A5737A7F4D508506B</td>\n",
       "      <td>-74.016380</td>\n",
       "      <td>40.705521</td>\n",
       "      <td>17.0</td>\n",
       "      <td>1.0</td>\n",
       "      <td>960</td>\n",
       "      <td>13</td>\n",
       "      <td>2</td>\n",
       "      <td>False</td>\n",
       "      <td>5.851636</td>\n",
       "      <td>21.943634</td>\n",
       "    </tr>\n",
       "    <tr>\n",
       "      <td>1304706</td>\n",
       "      <td>FC10E421AAE21F8BAAB9CD33B116BF34</td>\n",
       "      <td>DCF73C716FDC0975D728DDCD335C7AF7</td>\n",
       "      <td>-73.985626</td>\n",
       "      <td>40.718006</td>\n",
       "      <td>14.5</td>\n",
       "      <td>1.0</td>\n",
       "      <td>615</td>\n",
       "      <td>3</td>\n",
       "      <td>6</td>\n",
       "      <td>False</td>\n",
       "      <td>6.067691</td>\n",
       "      <td>35.518190</td>\n",
       "    </tr>\n",
       "    <tr>\n",
       "      <td>5708612</td>\n",
       "      <td>EF10D5A08A0D103A1701537C93FD55AC</td>\n",
       "      <td>9C214D350ED6FC5C321306CEB53D23C4</td>\n",
       "      <td>-73.959618</td>\n",
       "      <td>40.760208</td>\n",
       "      <td>9.0</td>\n",
       "      <td>1.0</td>\n",
       "      <td>673</td>\n",
       "      <td>7</td>\n",
       "      <td>0</td>\n",
       "      <td>False</td>\n",
       "      <td>1.624635</td>\n",
       "      <td>8.690469</td>\n",
       "    </tr>\n",
       "    <tr>\n",
       "      <td>10878915</td>\n",
       "      <td>B0B78CD05C8A1737E24F87459FC04B33</td>\n",
       "      <td>27B041361D07EE9FAD1F51C099204E18</td>\n",
       "      <td>-73.996933</td>\n",
       "      <td>40.737316</td>\n",
       "      <td>8.5</td>\n",
       "      <td>1.0</td>\n",
       "      <td>584</td>\n",
       "      <td>21</td>\n",
       "      <td>5</td>\n",
       "      <td>False</td>\n",
       "      <td>2.260813</td>\n",
       "      <td>13.936520</td>\n",
       "    </tr>\n",
       "  </tbody>\n",
       "</table>\n",
       "</div>"
      ],
      "text/plain": [
       "                                 medallion                      hack_license  \\\n",
       "7276649   FFB2AA0A5F7EA57B18799EB60CB5E792  208293D063814ED3E58EBB118E7E25AE   \n",
       "6234553   B48B1375CD301CADFC4AA5208B5C157C  0AD8D9ED455E6C0A5737A7F4D508506B   \n",
       "1304706   FC10E421AAE21F8BAAB9CD33B116BF34  DCF73C716FDC0975D728DDCD335C7AF7   \n",
       "5708612   EF10D5A08A0D103A1701537C93FD55AC  9C214D350ED6FC5C321306CEB53D23C4   \n",
       "10878915  B0B78CD05C8A1737E24F87459FC04B33  27B041361D07EE9FAD1F51C099204E18   \n",
       "\n",
       "          pickup_longitude  pickup_latitude  fare_amount  tip_amount  \\\n",
       "7276649         -73.993301        40.737644         13.5         1.0   \n",
       "6234553         -74.016380        40.705521         17.0         1.0   \n",
       "1304706         -73.985626        40.718006         14.5         1.0   \n",
       "5708612         -73.959618        40.760208          9.0         1.0   \n",
       "10878915        -73.996933        40.737316          8.5         1.0   \n",
       "\n",
       "          duration  pickup_hour  pickup_day  LaGu_airport  haversine  \\\n",
       "7276649        811           20           2         False   5.013232   \n",
       "6234553        960           13           2         False   5.851636   \n",
       "1304706        615            3           6         False   6.067691   \n",
       "5708612        673            7           0         False   1.624635   \n",
       "10878915       584           21           5         False   2.260813   \n",
       "\n",
       "              speed  \n",
       "7276649   22.253559  \n",
       "6234553   21.943634  \n",
       "1304706   35.518190  \n",
       "5708612    8.690469  \n",
       "10878915  13.936520  "
      ]
     },
     "execution_count": 108,
     "metadata": {},
     "output_type": "execute_result"
    }
   ],
   "source": [
    "ds.head()"
   ]
  },
  {
   "cell_type": "code",
   "execution_count": 109,
   "metadata": {},
   "outputs": [],
   "source": [
    "y = ds['tip_amount']\n",
    "x = ds.drop(['tip_amount'], axis =1 )"
   ]
  },
  {
   "cell_type": "code",
   "execution_count": 110,
   "metadata": {},
   "outputs": [
    {
     "data": {
      "text/plain": [
       "1.0    156536\n",
       "0.0      4570\n",
       "Name: tip_amount, dtype: int64"
      ]
     },
     "execution_count": 110,
     "metadata": {},
     "output_type": "execute_result"
    }
   ],
   "source": [
    "y.value_counts()"
   ]
  },
  {
   "cell_type": "code",
   "execution_count": 111,
   "metadata": {},
   "outputs": [
    {
     "data": {
      "text/plain": [
       "(161106, 11)"
      ]
     },
     "execution_count": 111,
     "metadata": {},
     "output_type": "execute_result"
    }
   ],
   "source": [
    "x.shape"
   ]
  },
  {
   "cell_type": "code",
   "execution_count": 112,
   "metadata": {},
   "outputs": [],
   "source": [
    "x = x.drop(['medallion', 'hack_license'],axis=1)\n"
   ]
  },
  {
   "cell_type": "code",
   "execution_count": 113,
   "metadata": {},
   "outputs": [],
   "source": [
    "correlation = x.corr()\n"
   ]
  },
  {
   "cell_type": "code",
   "execution_count": 114,
   "metadata": {},
   "outputs": [
    {
     "data": {
      "image/png": "[encoded data removed]",
      "text/plain": [
       "<Figure size 1296x1080 with 2 Axes>"
      ]
     },
     "metadata": {
      "needs_background": "light"
     },
     "output_type": "display_data"
    }
   ],
   "source": [
    "plt.figure(figsize=(10,8))\n",
    "sns.heatmap(correlation,annot=True,cmap='RdYlGn',linewidths=0.2,annot_kws={'size':10})\n",
    "fig=plt.gcf()\n",
    "fig.set_size_inches(18,15)\n",
    "plt.xticks(fontsize=14)\n",
    "plt.yticks(fontsize=14)\n",
    "plt.show()"
   ]
  },
  {
   "cell_type": "code",
   "execution_count": 115,
   "metadata": {},
   "outputs": [
    {
     "data": {
      "text/plain": [
       "pickup_longitude    float64\n",
       "pickup_latitude     float64\n",
       "fare_amount         float64\n",
       "duration              int64\n",
       "pickup_hour           int64\n",
       "pickup_day            int64\n",
       "LaGu_airport           bool\n",
       "haversine           float64\n",
       "speed               float64\n",
       "dtype: object"
      ]
     },
     "execution_count": 115,
     "metadata": {},
     "output_type": "execute_result"
    }
   ],
   "source": [
    "x.dtypes"
   ]
  },
  {
   "cell_type": "code",
   "execution_count": 116,
   "metadata": {},
   "outputs": [],
   "source": [
    "x_train,x_test, y_train,y_test = train_test_split(x,y, random_state = 42, test_size=0.2)\n"
   ]
  },
  {
   "cell_type": "code",
   "execution_count": 117,
   "metadata": {},
   "outputs": [
    {
     "data": {
      "text/plain": [
       "Index(['pickup_longitude', 'pickup_latitude', 'fare_amount', 'duration',\n",
       "       'pickup_hour', 'pickup_day', 'LaGu_airport', 'haversine', 'speed'],\n",
       "      dtype='object')"
      ]
     },
     "execution_count": 117,
     "metadata": {},
     "output_type": "execute_result"
    }
   ],
   "source": [
    "features = x_train.columns\n",
    "features"
   ]
  },
  {
   "cell_type": "code",
   "execution_count": 118,
   "metadata": {},
   "outputs": [],
   "source": [
    "df_train = pd.concat((x_train, y_train), axis=1)\n"
   ]
  },
  {
   "cell_type": "code",
   "execution_count": 119,
   "metadata": {},
   "outputs": [
    {
     "data": {
      "text/html": [
       "<div>\n",
       "<style scoped>\n",
       "    .dataframe tbody tr th:only-of-type {\n",
       "        vertical-align: middle;\n",
       "    }\n",
       "\n",
       "    .dataframe tbody tr th {\n",
       "        vertical-align: top;\n",
       "    }\n",
       "\n",
       "    .dataframe thead th {\n",
       "        text-align: right;\n",
       "    }\n",
       "</style>\n",
       "<table border=\"1\" class=\"dataframe\">\n",
       "  <thead>\n",
       "    <tr style=\"text-align: right;\">\n",
       "      <th></th>\n",
       "      <th>pickup_longitude</th>\n",
       "      <th>pickup_latitude</th>\n",
       "      <th>fare_amount</th>\n",
       "      <th>duration</th>\n",
       "      <th>pickup_hour</th>\n",
       "      <th>pickup_day</th>\n",
       "      <th>LaGu_airport</th>\n",
       "      <th>haversine</th>\n",
       "      <th>speed</th>\n",
       "      <th>tip_amount</th>\n",
       "    </tr>\n",
       "  </thead>\n",
       "  <tbody>\n",
       "    <tr>\n",
       "      <td>1690892</td>\n",
       "      <td>-73.957901</td>\n",
       "      <td>40.719635</td>\n",
       "      <td>16.5</td>\n",
       "      <td>1513</td>\n",
       "      <td>23</td>\n",
       "      <td>5</td>\n",
       "      <td>False</td>\n",
       "      <td>2.367998</td>\n",
       "      <td>5.634363</td>\n",
       "      <td>1.0</td>\n",
       "    </tr>\n",
       "    <tr>\n",
       "      <td>14551569</td>\n",
       "      <td>-74.004044</td>\n",
       "      <td>40.720875</td>\n",
       "      <td>17.0</td>\n",
       "      <td>1500</td>\n",
       "      <td>9</td>\n",
       "      <td>0</td>\n",
       "      <td>False</td>\n",
       "      <td>4.527204</td>\n",
       "      <td>10.865290</td>\n",
       "      <td>1.0</td>\n",
       "    </tr>\n",
       "    <tr>\n",
       "      <td>1470779</td>\n",
       "      <td>-73.978058</td>\n",
       "      <td>40.773891</td>\n",
       "      <td>5.0</td>\n",
       "      <td>241</td>\n",
       "      <td>18</td>\n",
       "      <td>4</td>\n",
       "      <td>False</td>\n",
       "      <td>1.379055</td>\n",
       "      <td>20.599990</td>\n",
       "      <td>1.0</td>\n",
       "    </tr>\n",
       "    <tr>\n",
       "      <td>8759578</td>\n",
       "      <td>-73.979759</td>\n",
       "      <td>40.762520</td>\n",
       "      <td>9.5</td>\n",
       "      <td>540</td>\n",
       "      <td>11</td>\n",
       "      <td>5</td>\n",
       "      <td>False</td>\n",
       "      <td>3.175721</td>\n",
       "      <td>21.171475</td>\n",
       "      <td>1.0</td>\n",
       "    </tr>\n",
       "    <tr>\n",
       "      <td>14237837</td>\n",
       "      <td>-73.995377</td>\n",
       "      <td>40.759781</td>\n",
       "      <td>10.0</td>\n",
       "      <td>660</td>\n",
       "      <td>22</td>\n",
       "      <td>5</td>\n",
       "      <td>False</td>\n",
       "      <td>2.058019</td>\n",
       "      <td>11.225559</td>\n",
       "      <td>1.0</td>\n",
       "    </tr>\n",
       "  </tbody>\n",
       "</table>\n",
       "</div>"
      ],
      "text/plain": [
       "          pickup_longitude  pickup_latitude  fare_amount  duration  \\\n",
       "1690892         -73.957901        40.719635         16.5      1513   \n",
       "14551569        -74.004044        40.720875         17.0      1500   \n",
       "1470779         -73.978058        40.773891          5.0       241   \n",
       "8759578         -73.979759        40.762520          9.5       540   \n",
       "14237837        -73.995377        40.759781         10.0       660   \n",
       "\n",
       "          pickup_hour  pickup_day  LaGu_airport  haversine      speed  \\\n",
       "1690892            23           5         False   2.367998   5.634363   \n",
       "14551569            9           0         False   4.527204  10.865290   \n",
       "1470779            18           4         False   1.379055  20.599990   \n",
       "8759578            11           5         False   3.175721  21.171475   \n",
       "14237837           22           5         False   2.058019  11.225559   \n",
       "\n",
       "          tip_amount  \n",
       "1690892          1.0  \n",
       "14551569         1.0  \n",
       "1470779          1.0  \n",
       "8759578          1.0  \n",
       "14237837         1.0  "
      ]
     },
     "execution_count": 119,
     "metadata": {},
     "output_type": "execute_result"
    }
   ],
   "source": [
    "df_train.head()"
   ]
  },
  {
   "cell_type": "markdown",
   "metadata": {},
   "source": [
    "### Over-sampling\n"
   ]
  },
  {
   "cell_type": "code",
   "execution_count": 120,
   "metadata": {},
   "outputs": [
    {
     "data": {
      "text/plain": [
       "1.0    125217\n",
       "0.0      3667\n",
       "Name: tip_amount, dtype: int64"
      ]
     },
     "execution_count": 120,
     "metadata": {},
     "output_type": "execute_result"
    }
   ],
   "source": [
    "df_train['tip_amount'].value_counts()"
   ]
  },
  {
   "cell_type": "code",
   "execution_count": 121,
   "metadata": {},
   "outputs": [],
   "source": [
    "#class count\n",
    "count_class_1, count_class_0 = df_train['tip_amount'].value_counts()"
   ]
  },
  {
   "cell_type": "code",
   "execution_count": 122,
   "metadata": {},
   "outputs": [
    {
     "name": "stdout",
     "output_type": "stream",
     "text": [
      "3667\n",
      "125217\n"
     ]
    }
   ],
   "source": [
    "print(count_class_0)\n",
    "print(count_class_1)"
   ]
  },
  {
   "cell_type": "code",
   "execution_count": 123,
   "metadata": {},
   "outputs": [],
   "source": [
    "#Divide by class\n",
    "df_class_0 = df_train[df_train['tip_amount'] == 0]\n",
    "df_class_1 = df_train[df_train['tip_amount'] == 1]"
   ]
  },
  {
   "cell_type": "code",
   "execution_count": 124,
   "metadata": {},
   "outputs": [],
   "source": [
    "df_class_1_under = df_class_1.sample(count_class_0)\n"
   ]
  },
  {
   "cell_type": "code",
   "execution_count": 125,
   "metadata": {},
   "outputs": [],
   "source": [
    "df_under = pd.concat([df_class_1_under, df_class_0], axis=0)\n"
   ]
  },
  {
   "cell_type": "code",
   "execution_count": 126,
   "metadata": {},
   "outputs": [
    {
     "name": "stdout",
     "output_type": "stream",
     "text": [
      "Random under_sampling:\n",
      "0.0    3667\n",
      "1.0    3667\n",
      "Name: tip_amount, dtype: int64\n"
     ]
    }
   ],
   "source": [
    "print('Random under_sampling:')\n",
    "print(df_under['tip_amount'].value_counts())"
   ]
  },
  {
   "cell_type": "markdown",
   "metadata": {},
   "source": [
    "### Modeling"
   ]
  },
  {
   "cell_type": "code",
   "execution_count": 127,
   "metadata": {},
   "outputs": [],
   "source": [
    "y = df_under['tip_amount']\n",
    "x = df_under.drop(['tip_amount'], axis =1 )"
   ]
  },
  {
   "cell_type": "code",
   "execution_count": 128,
   "metadata": {},
   "outputs": [
    {
     "name": "stdout",
     "output_type": "stream",
     "text": [
      "Training data shape:  (7334, 9)\n",
      "Testing data shape:  (32222, 9)\n"
     ]
    }
   ],
   "source": [
    "# Scale each feature to 0-1\n",
    "scaler = MinMaxScaler(feature_range = (0, 1))\n",
    "\n",
    "# Fit on the training data and transform both training and testing data\n",
    "scaler.fit(x)\n",
    "x = scaler.transform(x)\n",
    "x_test = scaler.transform(x_test)\n",
    "\n",
    "print('Training data shape: ', x.shape)\n",
    "print('Testing data shape: ', x_test.shape)"
   ]
  },
  {
   "cell_type": "markdown",
   "metadata": {},
   "source": [
    "#### 4.1 Logestic Regression\n"
   ]
  },
  {
   "cell_type": "code",
   "execution_count": 129,
   "metadata": {},
   "outputs": [
    {
     "data": {
      "text/plain": [
       "LogisticRegression(C=1.0, class_weight=None, dual=False, fit_intercept=True,\n",
       "                   intercept_scaling=1, l1_ratio=None, max_iter=100,\n",
       "                   multi_class='auto', n_jobs=None, penalty='l1',\n",
       "                   random_state=None, solver='liblinear', tol=0.0001, verbose=0,\n",
       "                   warm_start=False)"
      ]
     },
     "execution_count": 129,
     "metadata": {},
     "output_type": "execute_result"
    }
   ],
   "source": [
    "lr = LogisticRegression(penalty='l1', solver='liblinear')\n",
    "lr.fit(x, y)\n"
   ]
  },
  {
   "cell_type": "code",
   "execution_count": 130,
   "metadata": {},
   "outputs": [],
   "source": [
    "lr_y_pred = lr.predict(x_test)\n",
    "lr_y_prob = lr.predict_proba(x_test)[:,1]"
   ]
  },
  {
   "cell_type": "code",
   "execution_count": 131,
   "metadata": {},
   "outputs": [
    {
     "data": {
      "image/png": "[encoded data removed]",
      "text/plain": [
       "<Figure size 576x576 with 1 Axes>"
      ]
     },
     "metadata": {
      "needs_background": "light"
     },
     "output_type": "display_data"
    }
   ],
   "source": [
    "# For class 1, find the area under the curve\n",
    "\n",
    "# Find fpr, tpr\n",
    "\n",
    "fpr, tpr, _ = roc_curve(y_test, lr_y_prob)\n",
    "\n",
    "# Find auc\n",
    "\n",
    "roc_auc = auc(fpr, tpr)\n",
    "\n",
    "#Plot of a ROC curve for class 1 (has_cancer)\n",
    "plt.figure(figsize=[8,8])\n",
    "\n",
    "#Plot fpr, tpr\n",
    "plt.plot(fpr, tpr, color='darkorange', lw = 2, label = 'ROC curve (area = %0.4f)' % roc_auc)\n",
    "plt.plot([0, 1], [0, 1], 'k--', linewidth=4)\n",
    "plt.xlim([-0.05, 1.0])\n",
    "plt.ylim([-0.05, 1.05])\n",
    "plt.xlabel('False Positive Rate', fontsize=18)\n",
    "plt.ylabel('True Positive Rate', fontsize=18)\n",
    "plt.title('Receiver operating characteristic', fontsize=18)\n",
    "plt.legend(loc=\"lower right\")\n",
    "plt.show()"
   ]
  },
  {
   "cell_type": "code",
   "execution_count": 132,
   "metadata": {},
   "outputs": [
    {
     "data": {
      "text/plain": [
       "array([[  438,   465],\n",
       "       [10713, 20606]], dtype=int64)"
      ]
     },
     "execution_count": 132,
     "metadata": {},
     "output_type": "execute_result"
    }
   ],
   "source": [
    "confusion_matrix(y_test, lr_y_pred)\n"
   ]
  },
  {
   "cell_type": "code",
   "execution_count": 133,
   "metadata": {},
   "outputs": [
    {
     "name": "stdout",
     "output_type": "stream",
     "text": [
      "Accuracy : 0.6531 [TP / N] Proportion of predicted labels that match the true labels. Best: 1, Worst: 0\n",
      "Precision: 0.9779 [TP / (TP + FP)] Not to label a negative sample as positive.        Best: 1, Worst: 0\n",
      "Recall   : 0.6579 [TP / (TP + FN)] Find all the positive samples.                     Best: 1, Worst: 0\n",
      "-----------------------------------------------------------------------------------------------------------\n",
      "TP: True Positives, FP: False Positives, TN: True Negatives, FN: False Negatives, N: Number of samples\n"
     ]
    }
   ],
   "source": [
    "summary_report(y_test, lr_y_pred)\n"
   ]
  },
  {
   "cell_type": "markdown",
   "metadata": {},
   "source": [
    "#### 4.2 Random Forest"
   ]
  },
  {
   "cell_type": "code",
   "execution_count": 134,
   "metadata": {},
   "outputs": [],
   "source": [
    "rf = RandomForestClassifier(n_estimators = 1000, criterion='entropy', max_depth=10 ,random_state = 50, verbose = 1)\n"
   ]
  },
  {
   "cell_type": "code",
   "execution_count": 135,
   "metadata": {},
   "outputs": [
    {
     "name": "stderr",
     "output_type": "stream",
     "text": [
      "[Parallel(n_jobs=1)]: Using backend SequentialBackend with 1 concurrent workers.\n",
      "[Parallel(n_jobs=1)]: Done 1000 out of 1000 | elapsed:   13.6s finished\n"
     ]
    },
    {
     "data": {
      "text/plain": [
       "RandomForestClassifier(bootstrap=True, ccp_alpha=0.0, class_weight=None,\n",
       "                       criterion='entropy', max_depth=10, max_features='auto',\n",
       "                       max_leaf_nodes=None, max_samples=None,\n",
       "                       min_impurity_decrease=0.0, min_impurity_split=None,\n",
       "                       min_samples_leaf=1, min_samples_split=2,\n",
       "                       min_weight_fraction_leaf=0.0, n_estimators=1000,\n",
       "                       n_jobs=None, oob_score=False, random_state=50, verbose=1,\n",
       "                       warm_start=False)"
      ]
     },
     "execution_count": 135,
     "metadata": {},
     "output_type": "execute_result"
    }
   ],
   "source": [
    "rf.fit(x,y)\n"
   ]
  },
  {
   "cell_type": "code",
   "execution_count": 136,
   "metadata": {},
   "outputs": [
    {
     "name": "stderr",
     "output_type": "stream",
     "text": [
      "[Parallel(n_jobs=1)]: Using backend SequentialBackend with 1 concurrent workers.\n",
      "[Parallel(n_jobs=1)]: Done 1000 out of 1000 | elapsed:    2.8s finished\n"
     ]
    }
   ],
   "source": [
    "rf_y_pred = rf.predict(x_test)\n"
   ]
  },
  {
   "cell_type": "code",
   "execution_count": 137,
   "metadata": {},
   "outputs": [
    {
     "name": "stderr",
     "output_type": "stream",
     "text": [
      "[Parallel(n_jobs=1)]: Using backend SequentialBackend with 1 concurrent workers.\n",
      "[Parallel(n_jobs=1)]: Done 1000 out of 1000 | elapsed:    3.0s finished\n"
     ]
    }
   ],
   "source": [
    "rf_y_prob = rf.predict_proba(x_test)[:, 1]\n"
   ]
  },
  {
   "cell_type": "code",
   "execution_count": 138,
   "metadata": {},
   "outputs": [
    {
     "data": {
      "image/png": "[encoded data removed]",
      "text/plain": [
       "<Figure size 576x576 with 1 Axes>"
      ]
     },
     "metadata": {
      "needs_background": "light"
     },
     "output_type": "display_data"
    }
   ],
   "source": [
    "# For class 1, find the area under the curve\n",
    "\n",
    "# Find fpr, tpr\n",
    "\n",
    "fpr, tpr, _ = roc_curve(y_test, rf_y_prob)\n",
    "\n",
    "# Find auc\n",
    "\n",
    "roc_auc = auc(fpr, tpr)\n",
    "\n",
    "#Plot of a ROC curve for class 1 (default)\n",
    "plt.figure(figsize=[8,8])\n",
    "\n",
    "#Plot fpr, tpr\n",
    "plt.plot(fpr, tpr, color='darkorange', lw = 2, label = 'ROC curve (area = %0.4f)' % roc_auc)\n",
    "plt.plot([0, 1], [0, 1], 'k--', linewidth=4)\n",
    "plt.xlim([-0.05, 1.0])\n",
    "plt.ylim([-0.05, 1.05])\n",
    "plt.xlabel('False Positive Rate', fontsize=18)\n",
    "plt.ylabel('True Positive Rate', fontsize=18)\n",
    "plt.title('Receiver operating characteristic', fontsize=18)\n",
    "plt.legend(loc=\"lower right\")\n",
    "plt.show()"
   ]
  },
  {
   "cell_type": "code",
   "execution_count": 139,
   "metadata": {},
   "outputs": [
    {
     "name": "stdout",
     "output_type": "stream",
     "text": [
      "Accuracy : 0.6366 [TP / N] Proportion of predicted labels that match the true labels. Best: 1, Worst: 0\n",
      "Precision: 0.9804 [TP / (TP + FP)] Not to label a negative sample as positive.        Best: 1, Worst: 0\n",
      "Recall   : 0.6390 [TP / (TP + FN)] Find all the positive samples.                     Best: 1, Worst: 0\n",
      "-----------------------------------------------------------------------------------------------------------\n",
      "TP: True Positives, FP: False Positives, TN: True Negatives, FN: False Negatives, N: Number of samples\n"
     ]
    }
   ],
   "source": [
    "summary_report(y_test, rf_y_pred)\n"
   ]
  },
  {
   "cell_type": "code",
   "execution_count": 140,
   "metadata": {},
   "outputs": [],
   "source": [
    "#importance feature\n",
    "feature_importance_values = rf.feature_importances_"
   ]
  },
  {
   "cell_type": "code",
   "execution_count": 141,
   "metadata": {},
   "outputs": [],
   "source": [
    "feature_importances = pd.DataFrame({'feature': list(features), 'importance': feature_importance_values})"
   ]
  },
  {
   "cell_type": "code",
   "execution_count": 142,
   "metadata": {},
   "outputs": [
    {
     "data": {
      "image/png": "[encoded data removed]",
      "text/plain": [
       "<Figure size 720x432 with 1 Axes>"
      ]
     },
     "metadata": {
      "needs_background": "light"
     },
     "output_type": "display_data"
    }
   ],
   "source": [
    "feature_importances = feature_importances.sort_values('importance', ascending = False).reset_index()\n",
    "    \n",
    "# Normalize the feature importances to add up to one\n",
    "feature_importances['importance_normalized'] = feature_importances['importance'] / feature_importances['importance'].sum()\n",
    "\n",
    "# Make a horizontal bar chart of feature importances\n",
    "plt.figure(figsize = (10, 6))\n",
    "ax = plt.subplot()\n",
    "    \n",
    "# Need to reverse the index to plot most important on top\n",
    "ax.barh(list(reversed(list(feature_importances.index[:15]))), \n",
    "feature_importances['importance_normalized'].head(15), align = 'center', edgecolor = 'k')\n",
    "    \n",
    "# Set the yticks and labels\n",
    "ax.set_yticks(list(reversed(list(feature_importances.index[:15]))))\n",
    "ax.set_yticklabels(feature_importances['feature'].head(15))\n",
    "    \n",
    "# Plot labeling\n",
    "plt.xlabel('Normalized Importance'); plt.title('Feature Importances')\n",
    "plt.show()"
   ]
  },
  {
   "cell_type": "markdown",
   "metadata": {},
   "source": [
    "#### 4.3 XGBoost\n"
   ]
  },
  {
   "cell_type": "code",
   "execution_count": 143,
   "metadata": {},
   "outputs": [],
   "source": [
    "xgb = XGBClassifier(binary='logistic', random_state=50, max_depth=10, reg_alpha=10 )\n"
   ]
  },
  {
   "cell_type": "code",
   "execution_count": 144,
   "metadata": {},
   "outputs": [
    {
     "data": {
      "text/plain": [
       "XGBClassifier(base_score=0.5, binary='logistic', booster='gbtree',\n",
       "              colsample_bylevel=1, colsample_bynode=1, colsample_bytree=1,\n",
       "              gamma=0, learning_rate=0.1, max_delta_step=0, max_depth=10,\n",
       "              min_child_weight=1, missing=None, n_estimators=100, n_jobs=1,\n",
       "              nthread=None, objective='binary:logistic', random_state=50,\n",
       "              reg_alpha=10, reg_lambda=1, scale_pos_weight=1, seed=None,\n",
       "              silent=None, subsample=1, verbosity=1)"
      ]
     },
     "execution_count": 144,
     "metadata": {},
     "output_type": "execute_result"
    }
   ],
   "source": [
    "xgb.fit(x,y)\n"
   ]
  },
  {
   "cell_type": "code",
   "execution_count": 145,
   "metadata": {},
   "outputs": [],
   "source": [
    "xgb_y_pred = xgb.predict(x_test)\n"
   ]
  },
  {
   "cell_type": "code",
   "execution_count": 146,
   "metadata": {},
   "outputs": [],
   "source": [
    "xgb_y_prob = xgb.predict_proba(x_test)[:, 1]\n"
   ]
  },
  {
   "cell_type": "code",
   "execution_count": 147,
   "metadata": {},
   "outputs": [
    {
     "data": {
      "image/png": "[encoded data removed]",
      "text/plain": [
       "<Figure size 576x576 with 1 Axes>"
      ]
     },
     "metadata": {
      "needs_background": "light"
     },
     "output_type": "display_data"
    }
   ],
   "source": [
    "# For class 1, find the area under the curve\n",
    "\n",
    "# Find fpr, tpr\n",
    "\n",
    "fpr, tpr, _ = roc_curve(y_test, xgb_y_prob)\n",
    "\n",
    "# Find auc\n",
    "\n",
    "roc_auc = auc(fpr, tpr)\n",
    "\n",
    "#Plot of a ROC curve for class 1 (default)\n",
    "plt.figure(figsize=[8,8])\n",
    "\n",
    "#Plot fpr, tpr\n",
    "plt.plot(fpr, tpr, color='darkorange', lw = 2, label = 'ROC curve (area = %0.4f)' % roc_auc)\n",
    "plt.plot([0, 1], [0, 1], 'k--', linewidth=4)\n",
    "plt.xlim([-0.05, 1.0])\n",
    "plt.ylim([-0.05, 1.05])\n",
    "plt.xlabel('False Positive Rate', fontsize=18)\n",
    "plt.ylabel('True Positive Rate', fontsize=18)\n",
    "plt.title('Receiver operating characteristic', fontsize=18)\n",
    "plt.legend(loc=\"lower right\")\n",
    "plt.show()"
   ]
  },
  {
   "cell_type": "code",
   "execution_count": 148,
   "metadata": {},
   "outputs": [
    {
     "name": "stdout",
     "output_type": "stream",
     "text": [
      "Accuracy : 0.5843 [TP / N] Proportion of predicted labels that match the true labels. Best: 1, Worst: 0\n",
      "Precision: 0.9798 [TP / (TP + FP)] Not to label a negative sample as positive.        Best: 1, Worst: 0\n",
      "Recall   : 0.5843 [TP / (TP + FN)] Find all the positive samples.                     Best: 1, Worst: 0\n",
      "-----------------------------------------------------------------------------------------------------------\n",
      "TP: True Positives, FP: False Positives, TN: True Negatives, FN: False Negatives, N: Number of samples\n"
     ]
    }
   ],
   "source": [
    "summary_report(y_test, xgb_y_pred)\n"
   ]
  },
  {
   "cell_type": "code",
   "execution_count": 149,
   "metadata": {},
   "outputs": [],
   "source": [
    "feature_importance_values_xgb = xgb.feature_importances_\n"
   ]
  },
  {
   "cell_type": "code",
   "execution_count": 150,
   "metadata": {},
   "outputs": [],
   "source": [
    "feature_importances = pd.DataFrame({'feature': list(features), 'importance': feature_importance_values_xgb})"
   ]
  },
  {
   "cell_type": "code",
   "execution_count": 151,
   "metadata": {},
   "outputs": [
    {
     "data": {
      "image/png": "[encoded data removed]",
      "text/plain": [
       "<Figure size 720x432 with 1 Axes>"
      ]
     },
     "metadata": {
      "needs_background": "light"
     },
     "output_type": "display_data"
    }
   ],
   "source": [
    "feature_importances = feature_importances.sort_values('importance', ascending = False).reset_index()\n",
    "    \n",
    "# Normalize the feature importances to add up to one\n",
    "feature_importances['importance_normalized'] = feature_importances['importance'] / feature_importances['importance'].sum()\n",
    "\n",
    "# Make a horizontal bar chart of feature importances\n",
    "plt.figure(figsize = (10, 6))\n",
    "ax = plt.subplot()\n",
    "    \n",
    "# Need to reverse the index to plot most important on top\n",
    "ax.barh(list(reversed(list(feature_importances.index[:15]))), \n",
    "feature_importances['importance_normalized'].head(15), align = 'center', edgecolor = 'k')\n",
    "    \n",
    "# Set the yticks and labels\n",
    "ax.set_yticks(list(reversed(list(feature_importances.index[:15]))))\n",
    "ax.set_yticklabels(feature_importances['feature'].head(15))\n",
    "    \n",
    "# Plot labeling\n",
    "plt.xlabel('Normalized Importance'); plt.title('Feature Importances')\n",
    "plt.show()"
   ]
  },
  {
   "cell_type": "markdown",
   "metadata": {},
   "source": [
    "## Part 2: Predicting tip using regression models"
   ]
  },
  {
   "cell_type": "code",
   "execution_count": 152,
   "metadata": {},
   "outputs": [],
   "source": [
    "ds = df.sample(300000)\n",
    "\n",
    "ds = ds.drop(['pickup_datetime','dropoff_datetime', 'dropoff_longitude',\n",
    "              'dropoff_latitude','dropoff_hour',\n",
    "              'dropoff_day', 'trip_time_in_secs',\n",
    "             'trip_distance', 'mta_tax', 'tolls_amount', \n",
    "              'surcharge','rate_code', 'passenger_count','vendor_id','payment_type'], axis =1 )\n",
    "\n",
    "y = ds['tip_amount']\n",
    "x = ds.drop(['tip_amount'], axis =1 )\n",
    "x = x.set_index(['medallion', 'hack_license'])\n"
   ]
  },
  {
   "cell_type": "code",
   "execution_count": 153,
   "metadata": {},
   "outputs": [
    {
     "name": "stdout",
     "output_type": "stream",
     "text": [
      "Training data shape:  (240000, 9)\n",
      "Testing data shape:  (60000, 9)\n"
     ]
    }
   ],
   "source": [
    "x_train,x_test, y_train,y_test = train_test_split(x,y, random_state = 20, test_size=0.2)\n",
    "\n",
    "# Scale each feature to 0-1\n",
    "scaler = MinMaxScaler(feature_range = (0, 1))\n",
    "\n",
    "# Fit on the training data and transform both training and testing data\n",
    "scaler.fit(x_train)\n",
    "x_train = scaler.transform(x_train)\n",
    "x_test = scaler.transform(x_test)\n",
    "\n",
    "print('Training data shape: ', x_train.shape)\n",
    "print('Testing data shape: ', x_test.shape)"
   ]
  },
  {
   "cell_type": "markdown",
   "metadata": {},
   "source": [
    "#### Linear regression"
   ]
  },
  {
   "cell_type": "code",
   "execution_count": 154,
   "metadata": {},
   "outputs": [
    {
     "name": "stdout",
     "output_type": "stream",
     "text": [
      "RMSE: 1.682\n",
      "MAE: 1.235\n"
     ]
    }
   ],
   "source": [
    "lr = LinearRegression()\n",
    "lr.fit(x_train, y_train)\n",
    "y_pred = lr.predict(x_test)\n",
    "\n",
    "rmse = np.sqrt(mean_squared_error(y_test, y_pred))\n",
    "print('RMSE: %.3f' % (rmse))\n",
    "\n",
    "mae = mean_absolute_error(y_test, y_pred)\n",
    "print('MAE: %.3f' % (mae))"
   ]
  },
  {
   "cell_type": "markdown",
   "metadata": {},
   "source": [
    "#### Random Forest"
   ]
  },
  {
   "cell_type": "code",
   "execution_count": 155,
   "metadata": {},
   "outputs": [
    {
     "name": "stdout",
     "output_type": "stream",
     "text": [
      "RMSE: 1.682\n",
      "MAE: 1.213\n"
     ]
    }
   ],
   "source": [
    "# Create the random forest\n",
    "random_forest = RandomForestRegressor()\n",
    "\n",
    "# Train on data\n",
    "random_forest.fit(x_train, y_train)\n",
    "\n",
    "# predict \n",
    "y_pred = random_forest.predict(x_test)\n",
    "\n",
    "rmse = np.sqrt(mean_squared_error(y_test, y_pred))\n",
    "print('RMSE: %.3f' % (rmse))\n",
    "\n",
    "mae = mean_absolute_error(y_test, y_pred)\n",
    "print('MAE: %.3f' % (mae))"
   ]
  },
  {
   "cell_type": "code",
   "execution_count": 156,
   "metadata": {},
   "outputs": [
    {
     "data": {
      "text/plain": [
       "Text(0.5, 1.0, 'Distribution of Validation tips')"
      ]
     },
     "execution_count": 156,
     "metadata": {},
     "output_type": "execute_result"
    },
    {
     "data": {
      "image/png": "[encoded data removed]",
      "text/plain": [
       "<Figure size 720x432 with 1 Axes>"
      ]
     },
     "metadata": {
      "needs_background": "light"
     },
     "output_type": "display_data"
    }
   ],
   "source": [
    "plt.figure(figsize = (10, 6))\n",
    "\n",
    "sns.kdeplot(y_test, label = 'Actual')\n",
    "sns.kdeplot(y_pred, label = 'Predicted',linewidth=10,alpha=.5)\n",
    "plt.legend(prop = {'size': 20})\n",
    "plt.title(\"Distribution of Validation tips\")"
   ]
  },
  {
   "cell_type": "code",
   "execution_count": 157,
   "metadata": {},
   "outputs": [
    {
     "data": {
      "image/png": "[encoded data removed]",
      "text/plain": [
       "<Figure size 720x432 with 1 Axes>"
      ]
     },
     "metadata": {
      "needs_background": "light"
     },
     "output_type": "display_data"
    }
   ],
   "source": [
    "feature_importances = feature_importances.sort_values('importance', ascending = False).reset_index()\n",
    "    \n",
    "# Normalize the feature importances to add up to one\n",
    "feature_importances['importance_normalized'] = feature_importances['importance'] / feature_importances['importance'].sum()\n",
    "\n",
    "# Make a horizontal bar chart of feature importances\n",
    "plt.figure(figsize = (10, 6))\n",
    "ax = plt.subplot()\n",
    "    \n",
    "# Need to reverse the index to plot most important on top\n",
    "ax.barh(list(reversed(list(feature_importances.index[:15]))), \n",
    "feature_importances['importance_normalized'].head(15), align = 'center', edgecolor = 'k')\n",
    "    \n",
    "# Set the yticks and labels\n",
    "ax.set_yticks(list(reversed(list(feature_importances.index[:15]))))\n",
    "ax.set_yticklabels(feature_importances['feature'].head(15))\n",
    "    \n",
    "# Plot labelling\n",
    "plt.xlabel('Normalized Importance'); plt.title('Feature Importances')\n",
    "plt.show()"
   ]
  },
  {
   "cell_type": "code",
   "execution_count": null,
   "metadata": {},
   "outputs": [],
   "source": []
  }
 ],
 "metadata": {
  "kernelspec": {
   "display_name": "Python 3",
   "language": "python",
   "name": "python3"
  },
  "language_info": {
   "codemirror_mode": {
    "name": "ipython",
    "version": 3
   },
   "file_extension": ".py",
   "mimetype": "text/x-python",
   "name": "python",
   "nbconvert_exporter": "python",
   "pygments_lexer": "ipython3",
   "version": "3.7.4"
  },
  "toc": {
   "base_numbering": 1,
   "nav_menu": {},
   "number_sections": true,
   "sideBar": true,
   "skip_h1_title": false,
   "title_cell": "Table of Contents",
   "title_sidebar": "Contents",
   "toc_cell": false,
   "toc_position": {},
   "toc_section_display": true,
   "toc_window_display": false
  },
  "varInspector": {
   "cols": {
    "lenName": 16,
    "lenType": 16,
    "lenVar": 40
   },
   "kernels_config": {
    "python": {
     "delete_cmd_postfix": "",
     "delete_cmd_prefix": "del ",
     "library": "var_list.py",
     "varRefreshCmd": "print(var_dic_list())"
    },
    "r": {
     "delete_cmd_postfix": ") ",
     "delete_cmd_prefix": "rm(",
     "library": "var_list.r",
     "varRefreshCmd": "cat(var_dic_list()) "
    }
   },
   "types_to_exclude": [
    "module",
    "function",
    "builtin_function_or_method",
    "instance",
    "_Feature"
   ],
   "window_display": false
  }
 },
 "nbformat": 4,
 "nbformat_minor": 2
}
